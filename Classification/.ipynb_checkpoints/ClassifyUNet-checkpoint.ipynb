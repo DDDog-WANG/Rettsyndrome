{
 "cells": [
  {
   "cell_type": "code",
   "execution_count": 1,
   "metadata": {},
   "outputs": [],
   "source": [
    "import cv2,os\n",
    "from skimage import io\n",
    "from PIL import Image\n",
    "import numpy as np\n",
    "from matplotlib import pyplot as plt\n",
    "from tqdm import tqdm_notebook as tqdm\n",
    "\n",
    "from sklearn.model_selection import KFold\n",
    "from sklearn.metrics import roc_auc_score,precision_score,accuracy_score,roc_curve\n",
    "\n",
    "import torch\n",
    "from torch.utils.data import Dataset,TensorDataset,random_split,DataLoader,SubsetRandomSampler\n",
    "from torch.utils.data.dataset import Subset\n",
    "import torch.nn as nn\n",
    "import torch.nn.functional as F\n",
    "from torchvision import transforms\n",
    "import torchvision.models as models\n",
    "import sys\n",
    "\n",
    "if not sys.warnoptions:\n",
    "    import warnings\n",
    "    warnings.simplefilter(\"ignore\")"
   ]
  },
  {
   "cell_type": "code",
   "execution_count": 2,
   "metadata": {},
   "outputs": [
    {
     "name": "stdout",
     "output_type": "stream",
     "text": [
      "torch.device(cuda)\n",
      "torch.cuda.device_count():  4\n",
      "Tesla V100-SXM2-16GB\n",
      "Tesla V100-SXM2-16GB\n",
      "Tesla V100-SXM2-16GB\n",
      "Tesla V100-SXM2-16GB\n",
      "torch.cuda.current_device() 0\n"
     ]
    }
   ],
   "source": [
    "if torch.cuda.is_available():\n",
    "    device = torch.device(\"cuda\")\n",
    "    print(\"torch.device(cuda)\")\n",
    "    print(\"torch.cuda.device_count(): \", torch.cuda.device_count())\n",
    "    for i in range(torch.cuda.device_count()):\n",
    "        print(torch.cuda.get_device_name())\n",
    "    print(\"torch.cuda.current_device()\", torch.cuda.current_device())\n",
    "else:\n",
    "    device = torch.device(\"cpu\")\n",
    "    print(\"torch.device(cpu)\")"
   ]
  },
  {
   "cell_type": "markdown",
   "metadata": {
    "id": "aJjxv_T_DNKk"
   },
   "source": [
    "# 1. Read data"
   ]
  },
  {
   "cell_type": "code",
   "execution_count": 3,
   "metadata": {},
   "outputs": [
    {
     "name": "stdout",
     "output_type": "stream",
     "text": [
      "Datasets/CTRL_All.npy   Datasets/CTRL_Dapi.npy\r\n",
      "Datasets/CTRL_CTCF.npy  Datasets/CTRL_H3K27ac.npy\r\n"
     ]
    }
   ],
   "source": [
    "ls Datasets/CTRL*"
   ]
  },
  {
   "cell_type": "code",
   "execution_count": 4,
   "metadata": {},
   "outputs": [
    {
     "name": "stdout",
     "output_type": "stream",
     "text": [
      "Datasets/RETT_HPS3042_All.npy      Datasets/RETT_HPS3084_All.npy\r\n",
      "Datasets/RETT_HPS3042_CTCF.npy     Datasets/RETT_HPS3084_CTCF.npy\r\n",
      "Datasets/RETT_HPS3042_Dapi.npy     Datasets/RETT_HPS3084_Dapi.npy\r\n",
      "Datasets/RETT_HPS3042_H3K27ac.npy  Datasets/RETT_HPS3084_H3K27ac.npy\r\n",
      "Datasets/RETT_HPS3049_All.npy      Datasets/RETT_HPS9999_All.npy\r\n",
      "Datasets/RETT_HPS3049_CTCF.npy     Datasets/RETT_HPS9999_CTCF.npy\r\n",
      "Datasets/RETT_HPS3049_Dapi.npy     Datasets/RETT_HPS9999_Dapi.npy\r\n",
      "Datasets/RETT_HPS3049_H3K27ac.npy  Datasets/RETT_HPS9999_H3K27ac.npy\r\n"
     ]
    }
   ],
   "source": [
    "ls Datasets/RETT*"
   ]
  },
  {
   "cell_type": "code",
   "execution_count": 5,
   "metadata": {},
   "outputs": [],
   "source": [
    "stain_type = \"H3K27ac\"\n",
    "rett_type  = \"HPS3042\"\n",
    "\n",
    "X_Ctrl = np.load(f\"./Datasets/CTRL_{stain_type}.npy\",allow_pickle=True)\n",
    "X_Rett = np.load(f\"./Datasets/RETT_{rett_type}_{stain_type}.npy\",allow_pickle=True)\n",
    "y_Ctrl = torch.zeros(len(X_Ctrl), dtype=torch.int64)\n",
    "y_Rett = torch.ones(len(X_Rett), dtype=torch.int64)\n",
    "X = np.concatenate((X_Ctrl, X_Rett), axis = 0)\n",
    "y = torch.cat((y_Ctrl, y_Rett), 0)"
   ]
  },
  {
   "cell_type": "markdown",
   "metadata": {
    "id": "qyvCoE-HDNKm"
   },
   "source": [
    "# 2. Data processing"
   ]
  },
  {
   "cell_type": "code",
   "execution_count": 6,
   "metadata": {
    "executionInfo": {
     "elapsed": 290,
     "status": "ok",
     "timestamp": 1627023529885,
     "user": {
      "displayName": "Yicheng Wang",
      "photoUrl": "https://lh3.googleusercontent.com/a-/AOh14GgziKLn_im8Zl7A_SAzLLRm66nioH7fG0xuCYpJYg=s64",
      "userId": "10487961361854797289"
     },
     "user_tz": -540
    },
    "id": "Fh058iRlDNKm"
   },
   "outputs": [],
   "source": [
    "class cell_dataset(Dataset):\n",
    "    def __init__(self, x, y):\n",
    "        self.x = x\n",
    "        self.y = y\n",
    "        self.transform = transforms.ToTensor()\n",
    "    def __len__(self):\n",
    "        return len(self.x)\n",
    "    def __getitem__(self, idx):\n",
    "        return self.transform(self.x[idx]).to(torch.float), F.one_hot(self.y[idx],num_classes=2).to(torch.float)\n",
    "\n",
    "dataset = cell_dataset(X, y)"
   ]
  },
  {
   "cell_type": "code",
   "execution_count": 7,
   "metadata": {},
   "outputs": [],
   "source": [
    "batch_size = 16\n",
    "train_size = int(len(X)*0.8)\n",
    "valid_size = len(X) - train_size\n",
    "\n",
    "train_data, valid_data = random_split(dataset=dataset, lengths=[train_size, valid_size], \n",
    "                                      generator=torch.Generator().manual_seed(42))\n",
    "dataloader_train = DataLoader(train_data, batch_size=batch_size, shuffle=True)\n",
    "dataloader_valid = DataLoader(valid_data, batch_size=batch_size, shuffle=True)"
   ]
  },
  {
   "cell_type": "markdown",
   "metadata": {
    "id": "-KBoEbEMDNKo"
   },
   "source": [
    "# 3. ResNet model"
   ]
  },
  {
   "cell_type": "code",
   "execution_count": 8,
   "metadata": {},
   "outputs": [],
   "source": [
    "# model_type=\"Resnet10_noavg\"\n",
    "# rett_type_test = \"HPS3042\"\n",
    "# homepath=\"/groups/4/gaa50089/acd13264yb/Rettsyndrome/Classification\"\n",
    "# modelpath=f\"{homepath}/results/{rett_type_test}_{stain_type}_{model_type}/{rett_type_test}_{stain_type}_{model_type}_Fold0.pkl\"\n",
    "# weight = torch.load(modelpath)\n",
    "# print(modelpath)"
   ]
  },
  {
   "cell_type": "markdown",
   "metadata": {},
   "source": [
    "# UNet model"
   ]
  },
  {
   "cell_type": "code",
   "execution_count": 9,
   "metadata": {},
   "outputs": [],
   "source": [
    "class DoubleConv(nn.Module):\n",
    "    def __init__(self, in_channels, out_channels):\n",
    "        super(DoubleConv, self).__init__()\n",
    "        self.double_conv = nn.Sequential(\n",
    "            nn.Conv2d(in_channels, out_channels, kernel_size=3, padding=1),\n",
    "            nn.BatchNorm2d(out_channels),\n",
    "            nn.ReLU(inplace=True),\n",
    "            nn.Conv2d(out_channels, out_channels, kernel_size=3, padding=1),\n",
    "            nn.BatchNorm2d(out_channels),\n",
    "            nn.ReLU(inplace=True),\n",
    "        )\n",
    "    def forward(self, x):\n",
    "        return self.double_conv(x)\n",
    "    \n",
    "    \n",
    "class DownBlock(nn.Module):\n",
    "    def __init__(self, in_channels, out_channels):\n",
    "        super(DownBlock, self).__init__()\n",
    "        self.double_conv = DoubleConv(in_channels, out_channels)\n",
    "        self.down_sample = nn.MaxPool2d(2)\n",
    "    def forward(self, x):\n",
    "        skip_out = self.double_conv(x)\n",
    "        down_out = self.down_sample(skip_out)\n",
    "        return (down_out, skip_out)\n",
    "\n",
    "class UpBlock(nn.Module):\n",
    "    def __init__(self, in_channels, out_channels):\n",
    "        super(UpBlock, self).__init__()\n",
    "#         self.up_sample = nn.ConvTranspose2d(in_channels-out_channels, in_channels-out_channels, kernel_size=2, stride=2)\n",
    "        self.double_conv = DoubleConv(in_channels, out_channels)\n",
    "    def forward(self, down_input, skip_input):\n",
    "        skip_shape = skip_input.shape\n",
    "        x = F.interpolate(down_input, size=[skip_shape[2],skip_shape[3]],mode='nearest-exact')\n",
    "        x = torch.cat([x, skip_input], dim=1)\n",
    "        return self.double_conv(x)"
   ]
  },
  {
   "cell_type": "code",
   "execution_count": 10,
   "metadata": {},
   "outputs": [],
   "source": [
    "class UNetblock(nn.Module):\n",
    "    def __init__(self):\n",
    "        super(UNetblock, self).__init__()\n",
    "        # Downsampling Path\n",
    "        self.down_conv1 = DownBlock(3, 64)\n",
    "        self.down_conv2 = DownBlock(64, 128)\n",
    "        self.down_conv3 = DownBlock(128, 256)\n",
    "        self.down_conv4 = DownBlock(256, 512)\n",
    "        # Bottleneck\n",
    "        self.double_conv = DoubleConv(512, 1024)\n",
    "        # Upsampling Path\n",
    "        self.up_conv4 = UpBlock(512 + 1024, 512)\n",
    "        self.up_conv3 = UpBlock(256 + 512, 256)\n",
    "        self.up_conv2 = UpBlock(128 + 256, 128)\n",
    "        self.up_conv1 = UpBlock(64 + 128, 64)\n",
    "        # output\n",
    "        self.output = nn.Conv2d(64,64,kernel_size=1)\n",
    "        self.sigmoid = nn.Sigmoid()\n",
    "        \n",
    "    def forward(self, input_image):\n",
    "        x, skip1_out = self.down_conv1(input_image)\n",
    "        x, skip2_out = self.down_conv2(x)\n",
    "        x, skip3_out = self.down_conv3(x)\n",
    "        x, skip4_out = self.down_conv4(x)\n",
    "        x = self.double_conv(x)\n",
    "        x = self.up_conv4(x, skip4_out)\n",
    "        x = self.up_conv3(x, skip3_out)\n",
    "        x = self.up_conv2(x, skip2_out)\n",
    "        x = self.up_conv1(x, skip1_out)\n",
    "        x = self.output(x)\n",
    "#         x = self.sigmoid(x)\n",
    "        return x"
   ]
  },
  {
   "cell_type": "code",
   "execution_count": 11,
   "metadata": {},
   "outputs": [
    {
     "name": "stdout",
     "output_type": "stream",
     "text": [
      "torch.Size([1, 3, 500, 500])\n",
      "torch.Size([1, 64, 500, 500])\n"
     ]
    }
   ],
   "source": [
    "model = UNetblock().to(device)\n",
    "\n",
    "image_size = 500\n",
    "test_input = torch.ones(1, 3, image_size, image_size).to(device)\n",
    "print(test_input.size())\n",
    "\n",
    "output = model(test_input)\n",
    "print(output.size())"
   ]
  },
  {
   "cell_type": "code",
   "execution_count": null,
   "metadata": {},
   "outputs": [],
   "source": []
  },
  {
   "cell_type": "code",
   "execution_count": 13,
   "metadata": {},
   "outputs": [],
   "source": [
    "class ResNetblock(nn.Module):\n",
    "    def __init__(self):\n",
    "        super(ResNetblock,self).__init__()\n",
    "        self.resnet = models.resnet18(weights=True)\n",
    "        self.resnet.conv1 = nn.Sequential()\n",
    "        self.resnet.bn1 = nn.Sequential()\n",
    "        self.resnet.relu = nn.Sequential()\n",
    "        self.resnet.maxpool = nn.Sequential()\n",
    "        self.resnet.layer3 = nn.Sequential()\n",
    "        self.resnet.layer4 = nn.Sequential()\n",
    "        self.resnet.fc = nn.Linear(128, 2)\n",
    "        \n",
    "    def forward(self, x):\n",
    "        x = self.resnet(x)\n",
    "        return x"
   ]
  },
  {
   "cell_type": "code",
   "execution_count": 14,
   "metadata": {},
   "outputs": [
    {
     "name": "stdout",
     "output_type": "stream",
     "text": [
      "torch.Size([1, 64, 500, 500])\n",
      "torch.Size([1, 2])\n"
     ]
    }
   ],
   "source": [
    "model = ResNetblock().to(device)\n",
    "# model = nn.DataParallel(model, list(range(4)))\n",
    "\n",
    "image_size = 500  # 输入图像的大小为500x500\n",
    "test_input = torch.ones(1, 64, image_size, image_size).to(device)\n",
    "print(test_input.size())\n",
    "\n",
    "# mask, output = model(test_input)\n",
    "output = model(test_input)\n",
    "print(output.size())\n",
    "# print(output)"
   ]
  },
  {
   "cell_type": "code",
   "execution_count": null,
   "metadata": {},
   "outputs": [],
   "source": []
  },
  {
   "cell_type": "code",
   "execution_count": null,
   "metadata": {},
   "outputs": [],
   "source": []
  },
  {
   "cell_type": "code",
   "execution_count": null,
   "metadata": {},
   "outputs": [],
   "source": []
  },
  {
   "cell_type": "code",
   "execution_count": 15,
   "metadata": {},
   "outputs": [],
   "source": [
    "class maskUNet(nn.Module):\n",
    "    def __init__(self):\n",
    "        super(maskUNet, self).__init__()\n",
    "        self.UNetblock = UNetblock()\n",
    "        self.ResNetblock = ResNetblock()\n",
    "        \n",
    "    def forward(self, input_image):\n",
    "        x = self.UNetblock(input_image)\n",
    "        output = self.ResNetblock(x)\n",
    "        \n",
    "        return output"
   ]
  },
  {
   "cell_type": "code",
   "execution_count": 16,
   "metadata": {},
   "outputs": [
    {
     "name": "stdout",
     "output_type": "stream",
     "text": [
      "torch.Size([1, 3, 500, 500])\n",
      "torch.Size([1, 2])\n"
     ]
    }
   ],
   "source": [
    "model = maskUNet().to(device)\n",
    "model = nn.DataParallel(model, list(range(4)))\n",
    "\n",
    "image_size = 500  # 输入图像的大小为500x500\n",
    "test_input = torch.ones(1, 3, image_size, image_size).to(device)\n",
    "print(test_input.size())\n",
    "\n",
    "# mask, output = model(test_input)\n",
    "output = model(test_input)\n",
    "print(output.size())\n",
    "# print(output)"
   ]
  },
  {
   "cell_type": "code",
   "execution_count": 18,
   "metadata": {},
   "outputs": [
    {
     "name": "stdout",
     "output_type": "stream",
     "text": [
      "<class 'torch.Tensor'>\n",
      "torch.Size([16, 2])\n"
     ]
    }
   ],
   "source": [
    "for x, y in dataloader_train:\n",
    "    print(type(x))\n",
    "    print(y.size())\n",
    "    break"
   ]
  },
  {
   "cell_type": "markdown",
   "metadata": {},
   "source": [
    "# 4. Train"
   ]
  },
  {
   "cell_type": "code",
   "execution_count": 19,
   "metadata": {},
   "outputs": [],
   "source": [
    "model.avgpool = nn.AdaptiveAvgPool2d(1)\n",
    "\n",
    "# loss_function = nn.BCELoss()\n",
    "weights = torch.tensor([(len(X_Ctrl)+len(X_Rett))/len(X_Ctrl), \n",
    "                        (len(X_Ctrl)+len(X_Rett))/len(X_Rett)]).cuda()\n",
    "# loss_function = nn.CrossEntropyLoss(weight=weights)\n",
    "loss_function = nn.BCEWithLogitsLoss(pos_weight=weights)\n",
    "\n",
    "optimizer = torch.optim.Adam(model.parameters(), lr=0.00001)\n",
    "scheduler = torch.optim.lr_scheduler.ExponentialLR(optimizer, gamma=0.99)\n",
    "\n",
    "def train(model,device,dataloader_train,loss_function,optimizer):\n",
    "    losses_train = []\n",
    "    n_train = 0\n",
    "    acc_train = 0\n",
    "    optimizer.step()\n",
    "    model.train()\n",
    "    for x, y in dataloader_train:\n",
    "        n_train += y.size()[0]\n",
    "        model.zero_grad()  # 勾配の初期化\n",
    "        x = x.to(device)  # テンソルをGPUに移動\n",
    "        y = y.to(device)\n",
    "        output = model(x)  # 順伝播\n",
    "        loss = loss_function(output, y)  # 誤差(クロスエントロピー誤差関数)の計算\n",
    "        loss.backward()  # 誤差の逆伝播\n",
    "        optimizer.step()  # パラメータの更新\n",
    "        acc_train += (output.argmax(1) == y[:,1]).float().sum().item()\n",
    "        losses_train.append(loss.tolist())\n",
    "    return np.mean(losses_train), (acc_train/n_train)\n",
    "        \n",
    "def valid(model,device,dataloader_valid,loss_function):\n",
    "    losses_valid = []\n",
    "    n_val = 0\n",
    "    acc_val = 0\n",
    "    model.eval()\n",
    "    with torch.no_grad():\n",
    "        for x, y in dataloader_valid:\n",
    "            n_val += y.size()[0]\n",
    "            x = x.to(device)  # テンソルをGPUに移動\n",
    "            y = y.to(device)\n",
    "            output = model(x)  # 順伝播\n",
    "            loss = loss_function(output, y)  # 誤差(クロスエントロピー誤差関数)の計算\n",
    "            acc_val += (output.argmax(1) == y[:,1]).float().sum().item()\n",
    "            losses_valid.append(loss.tolist())\n",
    "    return np.mean(losses_valid), (acc_val/n_val)\n",
    "\n",
    "history = {'loss_train': [], 'loss_valid': [],'acc_train':[],'acc_valid':[]}"
   ]
  },
  {
   "cell_type": "code",
   "execution_count": 21,
   "metadata": {
    "scrolled": true
   },
   "outputs": [],
   "source": [
    "n_epochs = 100\n",
    "for epoch in range(n_epochs):\n",
    "    loss_train, acc_train = train(model,device,dataloader_train,loss_function,optimizer)\n",
    "    loss_valid, acc_valid = valid(model,device,dataloader_valid,loss_function)\n",
    "    scheduler.step()\n",
    "    \n",
    "    history['loss_train'].append(loss_train)\n",
    "    history['loss_valid'].append(loss_valid)\n",
    "    history['acc_train'].append(acc_train)\n",
    "    history['acc_valid'].append(acc_valid)\n",
    "    print('EPOCH: {}, Train [Loss: {:.3f}, Accuracy: {:.3f}], Valid [Loss: {:.3f}, Accuracy: {:.3f}]'\n",
    "          .format(epoch, loss_train, acc_train, loss_valid, acc_valid))"
   ]
  },
  {
   "cell_type": "code",
   "execution_count": 17,
   "metadata": {},
   "outputs": [
    {
     "data": {
      "text/plain": [
       "<matplotlib.image.AxesImage at 0x1532eb6be770>"
      ]
     },
     "execution_count": 17,
     "metadata": {},
     "output_type": "execute_result"
    },
    {
     "data": {
      "image/png": "[encoded data removed]",
      "text/plain": [
       "<Figure size 720x720 with 2 Axes>"
      ]
     },
     "metadata": {
      "needs_background": "light"
     },
     "output_type": "display_data"
    }
   ],
   "source": [
    "test_input = torch.tensor(X_Ctrl[0], dtype=torch.float32).to(device)\n",
    "test_input = test_input.unsqueeze(0).permute(0, 3, 1, 2)\n",
    "\n",
    "mask, output = model(test_input)\n",
    "plt.figure(figsize=(10,10))\n",
    "plt.subplot(1,2,1)\n",
    "plt.imshow(X_Ctrl[0]*int(255/X_Ctrl[0].max()))\n",
    "plt.subplot(1,2,2)\n",
    "plt.imshow(mask[0,0,:,:].cpu().detach().numpy())"
   ]
  },
  {
   "cell_type": "code",
   "execution_count": 32,
   "metadata": {},
   "outputs": [
    {
     "data": {
      "image/png": "[encoded data removed]",
      "text/plain": [
       "<Figure size 432x288 with 1 Axes>"
      ]
     },
     "metadata": {
      "needs_background": "light"
     },
     "output_type": "display_data"
    },
    {
     "data": {
      "text/plain": [
       "<Figure size 432x288 with 0 Axes>"
      ]
     },
     "metadata": {},
     "output_type": "display_data"
    }
   ],
   "source": [
    "# train processing plot\n",
    "n_epochs = 50\n",
    "epochs=range(1,n_epochs+1)\n",
    "plt.ylim(0,1.0)\n",
    "plt.plot(epochs, history['acc_train'], 'b', label='Training accuracy')  \n",
    "plt.plot(epochs, history['acc_valid'], 'r', label='Validation accuracy')\n",
    "plt.title('Training and Validation accuracy')\n",
    "plt.legend()\n",
    "plt.figure()\n",
    "plt.show()"
   ]
  },
  {
   "cell_type": "markdown",
   "metadata": {},
   "source": [
    "# 4. Validate data"
   ]
  },
  {
   "cell_type": "code",
   "execution_count": 55,
   "metadata": {},
   "outputs": [],
   "source": [
    "def plot_and_save_roc_curve(y_true, y_scores, fold):\n",
    "    fpr, tpr, _ = roc_curve(y_true, y_scores)\n",
    "    auc_score = roc_auc_score(y_true, y_scores)\n",
    "    return auc_score\n",
    "\n",
    "def valid(model, device, dataloader_valid):\n",
    "    model.eval()\n",
    "    y_true = []\n",
    "    y_scores = []\n",
    "    acc_val = 0\n",
    "    n_val = 0\n",
    "    for x, y in dataloader_valid:\n",
    "        n_val += y.size()[0]\n",
    "        x, y = x.to(device), y.to(device)\n",
    "        with torch.no_grad():\n",
    "            output = model(x)\n",
    "        y_true.extend(y[:,1].tolist())  # 假设y的第二列是标签\n",
    "        y_scores.extend(output[:,1].sigmoid().tolist())  # 假设模型的第二个输出是预测为正类的得分\n",
    "        acc_val += (output.argmax(1) == y[:,1]).float().sum().item()\n",
    "    auc_score = plot_and_save_roc_curve(y_true, y_scores, fold)  # 调用ROC绘图函数\n",
    "    return acc_val / n_val, auc_score\n",
    "\n",
    "def loaddata(stain_type, rett_type):\n",
    "    X_Ctrl = np.load(f\"{homepath}/Datasets/CTRL_{stain_type}.npy\",allow_pickle=True)\n",
    "    X_Rett = np.load(f\"{homepath}/Datasets/RETT_{rett_type}_{stain_type}.npy\",allow_pickle=True)\n",
    "    y_Ctrl = torch.zeros(len(X_Ctrl), dtype=torch.int64)\n",
    "    y_Rett = torch.ones(len(X_Rett), dtype=torch.int64)\n",
    "    X = np.concatenate((X_Ctrl, X_Rett), axis = 0)\n",
    "    y = torch.cat((y_Ctrl, y_Rett), 0)\n",
    "    dataset = cell_dataset(X, y)\n",
    "    return dataset"
   ]
  },
  {
   "cell_type": "code",
   "execution_count": 56,
   "metadata": {},
   "outputs": [
    {
     "name": "stdout",
     "output_type": "stream",
     "text": [
      "All\n",
      "🔶 Data HPS3042, 🔷 Model HPS3042  Accuracy: 0.994, AUC: 1.000\n",
      "\n",
      "🔶 Data HPS3042, 🔷 Model HPS3049  Accuracy: 0.748, AUC: 0.888\n",
      "\n",
      "🔶 Data HPS3042, 🔷 Model HPS3084  Accuracy: 0.911, AUC: 0.990\n",
      "\n",
      "🔶 Data HPS3049, 🔷 Model HPS3042  Accuracy: 0.599, AUC: 0.833\n",
      "\n",
      "🔶 Data HPS3049, 🔷 Model HPS3049  Accuracy: 0.985, AUC: 0.999\n",
      "\n",
      "🔶 Data HPS3049, 🔷 Model HPS3084  Accuracy: 0.624, AUC: 0.871\n",
      "\n",
      "🔶 Data HPS3084, 🔷 Model HPS3042  Accuracy: 0.988, AUC: 1.000\n",
      "\n",
      "🔶 Data HPS3084, 🔷 Model HPS3049  Accuracy: 0.798, AUC: 0.960\n",
      "\n",
      "🔶 Data HPS3084, 🔷 Model HPS3084  Accuracy: 0.999, AUC: 1.000\n",
      "\n",
      "H3K27ac\n",
      "🔶 Data HPS3042, 🔷 Model HPS3042  Accuracy: 0.981, AUC: 0.999\n",
      "\n",
      "🔶 Data HPS3042, 🔷 Model HPS3049  Accuracy: 0.657, AUC: 0.481\n",
      "\n",
      "🔶 Data HPS3042, 🔷 Model HPS3084  Accuracy: 0.929, AUC: 0.985\n",
      "\n",
      "🔶 Data HPS3049, 🔷 Model HPS3042  Accuracy: 0.565, AUC: 0.477\n",
      "\n",
      "🔶 Data HPS3049, 🔷 Model HPS3049  Accuracy: 0.953, AUC: 0.992\n",
      "\n",
      "🔶 Data HPS3049, 🔷 Model HPS3084  Accuracy: 0.559, AUC: 0.501\n",
      "\n",
      "🔶 Data HPS3084, 🔷 Model HPS3042  Accuracy: 0.894, AUC: 0.985\n",
      "\n",
      "🔶 Data HPS3084, 🔷 Model HPS3049  Accuracy: 0.583, AUC: 0.499\n",
      "\n",
      "🔶 Data HPS3084, 🔷 Model HPS3084  Accuracy: 0.978, AUC: 0.998\n",
      "\n",
      "CTCF\n",
      "🔶 Data HPS3042, 🔷 Model HPS3042  Accuracy: 0.982, AUC: 0.998\n",
      "\n",
      "🔶 Data HPS3042, 🔷 Model HPS3049  Accuracy: 0.712, AUC: 0.768\n",
      "\n",
      "🔶 Data HPS3042, 🔷 Model HPS3084  Accuracy: 0.853, AUC: 0.975\n",
      "\n",
      "🔶 Data HPS3049, 🔷 Model HPS3042  Accuracy: 0.626, AUC: 0.653\n",
      "\n",
      "🔶 Data HPS3049, 🔷 Model HPS3049  Accuracy: 0.958, AUC: 0.993\n",
      "\n",
      "🔶 Data HPS3049, 🔷 Model HPS3084  Accuracy: 0.575, AUC: 0.585\n",
      "\n",
      "🔶 Data HPS3084, 🔷 Model HPS3042  Accuracy: 0.985, AUC: 0.999\n",
      "\n",
      "🔶 Data HPS3084, 🔷 Model HPS3049  Accuracy: 0.719, AUC: 0.837\n",
      "\n",
      "🔶 Data HPS3084, 🔷 Model HPS3084  Accuracy: 0.996, AUC: 1.000\n",
      "\n",
      "Dapi\n",
      "🔶 Data HPS3042, 🔷 Model HPS3042  Accuracy: 0.959, AUC: 0.989\n",
      "\n",
      "🔶 Data HPS3042, 🔷 Model HPS3049  Accuracy: 0.743, AUC: 0.858\n",
      "\n",
      "🔶 Data HPS3042, 🔷 Model HPS3084  Accuracy: 0.854, AUC: 0.937\n",
      "\n",
      "🔶 Data HPS3049, 🔷 Model HPS3042  Accuracy: 0.630, AUC: 0.757\n",
      "\n",
      "🔶 Data HPS3049, 🔷 Model HPS3049  Accuracy: 0.942, AUC: 0.986\n",
      "\n",
      "🔶 Data HPS3049, 🔷 Model HPS3084  Accuracy: 0.643, AUC: 0.799\n",
      "\n",
      "🔶 Data HPS3084, 🔷 Model HPS3042  Accuracy: 0.762, AUC: 0.872\n",
      "\n",
      "🔶 Data HPS3084, 🔷 Model HPS3049  Accuracy: 0.668, AUC: 0.791\n",
      "\n",
      "🔶 Data HPS3084, 🔷 Model HPS3084  Accuracy: 0.940, AUC: 0.988\n",
      "\n"
     ]
    }
   ],
   "source": [
    "# whole data\n",
    "# stain_type = \"H3K27ac\"\n",
    "# rett_type  = \"HPS3042\"\n",
    "# rett_type_model = \"HPS3042\"\n",
    "model_type=\"Resnet10_noavg\"\n",
    "homepath=\"/groups/4/gaa50089/acd13264yb/Rettsyndrome/Classification\"\n",
    "\n",
    "stain_list = [\"All\", \"H3K27ac\", \"CTCF\", \"Dapi\"]\n",
    "rett_list = [\"HPS3042\", \"HPS3049\", \"HPS3084\"]\n",
    "for stain_type in stain_list:\n",
    "    print(f\"{stain_type}\")\n",
    "\n",
    "    for rett_type in rett_list:\n",
    "        for rett_type_model in rett_list:\n",
    "            dataset = loaddata(stain_type, rett_type)\n",
    "\n",
    "            history = {'acc_valid':[], 'auc_valid':[]}\n",
    "            print(f\"Data {rett_type}, Model {rett_type_model}\", end='  ')\n",
    "\n",
    "            dataloader_valid = DataLoader(dataset, batch_size=batch_size)\n",
    "\n",
    "            modelpath=f\"{homepath}/results/{rett_type_model}_{stain_type}_{model_type}/{rett_type_model}_{stain_type}_{model_type}_Fold0.pkl\"\n",
    "            weight = torch.load(modelpath)\n",
    "\n",
    "            model = ResNet().to(device)\n",
    "            model.avgpool = nn.AdaptiveAvgPool2d(1)\n",
    "\n",
    "            acc_valid, auc_valid = valid(model, device, dataloader_valid)\n",
    "            print(f'Accuracy: {acc_valid:.3f}, AUC: {auc_valid:.3f}')\n",
    "            history['acc_valid'].append(acc_valid)\n",
    "            history['auc_valid'].append(auc_valid)"
   ]
  },
  {
   "cell_type": "code",
   "execution_count": 58,
   "metadata": {},
   "outputs": [
    {
     "name": "stdout",
     "output_type": "stream",
     "text": [
      "All\n",
      "Data HPS3042, Model HPS3042_Fold0  Accuracy: 0.971, AUC: 0.998\n",
      "Data HPS3042, Model HPS3049_Fold0  Accuracy: 0.726, AUC: 0.848\n",
      "Data HPS3042, Model HPS3084_Fold0  Accuracy: 0.914, AUC: 0.987\n",
      "Data HPS3049, Model HPS3042_Fold0  Accuracy: 0.611, AUC: 0.812\n",
      "Data HPS3049, Model HPS3049_Fold0  Accuracy: 0.925, AUC: 0.977\n",
      "Data HPS3049, Model HPS3084_Fold0  Accuracy: 0.645, AUC: 0.855\n",
      "Data HPS3084, Model HPS3042_Fold0  Accuracy: 0.985, AUC: 0.999\n",
      "Data HPS3084, Model HPS3049_Fold0  Accuracy: 0.810, AUC: 0.927\n",
      "Data HPS3084, Model HPS3084_Fold0  Accuracy: 0.993, AUC: 1.000\n",
      "H3K27ac\n",
      "Data HPS3042, Model HPS3042_Fold0  Accuracy: 0.907, AUC: 0.975\n",
      "Data HPS3042, Model HPS3049_Fold0  Accuracy: 0.622, AUC: 0.434\n",
      "Data HPS3042, Model HPS3084_Fold0  Accuracy: 0.905, AUC: 0.967\n",
      "Data HPS3049, Model HPS3042_Fold0  Accuracy: 0.575, AUC: 0.405\n",
      "Data HPS3049, Model HPS3049_Fold0  Accuracy: 0.765, AUC: 0.858\n",
      "Data HPS3049, Model HPS3084_Fold0  Accuracy: 0.548, AUC: 0.366\n",
      "Data HPS3084, Model HPS3042_Fold0  Accuracy: 0.887, AUC: 0.979\n",
      "Data HPS3084, Model HPS3049_Fold0  Accuracy: 0.522, AUC: 0.398\n",
      "Data HPS3084, Model HPS3084_Fold0  Accuracy: 0.890, AUC: 0.961\n",
      "CTCF\n",
      "Data HPS3042, Model HPS3042_Fold0  Accuracy: 0.913, AUC: 0.976\n",
      "Data HPS3042, Model HPS3049_Fold0  Accuracy: 0.681, AUC: 0.687\n",
      "Data HPS3042, Model HPS3084_Fold0  Accuracy: 0.861, AUC: 0.974\n",
      "Data HPS3049, Model HPS3042_Fold0  Accuracy: 0.621, AUC: 0.598\n",
      "Data HPS3049, Model HPS3049_Fold0  Accuracy: 0.793, AUC: 0.869\n",
      "Data HPS3049, Model HPS3084_Fold0  Accuracy: 0.590, AUC: 0.529\n",
      "Data HPS3084, Model HPS3042_Fold0  Accuracy: 0.975, AUC: 0.999\n",
      "Data HPS3084, Model HPS3049_Fold0  Accuracy: 0.678, AUC: 0.744\n",
      "Data HPS3084, Model HPS3084_Fold0  Accuracy: 0.982, AUC: 0.997\n",
      "Dapi\n",
      "Data HPS3042, Model HPS3042_Fold0  Accuracy: 0.795, AUC: 0.852\n",
      "Data HPS3042, Model HPS3049_Fold0  Accuracy: 0.677, AUC: 0.742\n",
      "Data HPS3042, Model HPS3084_Fold0  Accuracy: 0.819, AUC: 0.890\n",
      "Data HPS3049, Model HPS3042_Fold0  Accuracy: 0.621, AUC: 0.659\n",
      "Data HPS3049, Model HPS3049_Fold0  Accuracy: 0.710, AUC: 0.786\n",
      "Data HPS3049, Model HPS3084_Fold0  Accuracy: 0.588, AUC: 0.609\n",
      "Data HPS3084, Model HPS3042_Fold0  Accuracy: 0.751, AUC: 0.810\n",
      "Data HPS3084, Model HPS3049_Fold0  Accuracy: 0.597, AUC: 0.610\n",
      "Data HPS3084, Model HPS3084_Fold0  Accuracy: 0.700, AUC: 0.769\n"
     ]
    }
   ],
   "source": [
    "# 5-Fold\n",
    "stain_type = \"H3K27ac\"\n",
    "rett_type  = \"HPS3042\"\n",
    "model_type=\"Resnet10_noavg\"\n",
    "rett_type_model = \"HPS3042\"\n",
    "homepath=\"/groups/4/gaa50089/acd13264yb/Rettsyndrome/Classification\"\n",
    "\n",
    "stain_list = [\"All\", \"H3K27ac\", \"CTCF\", \"Dapi\"]\n",
    "rett_list = [\"HPS3042\", \"HPS3049\", \"HPS3084\"]\n",
    "for stain_type in stain_list:\n",
    "    print(f\"{stain_type}\")\n",
    "\n",
    "    for rett_type in rett_list:\n",
    "        for rett_type_model in rett_list:\n",
    "            dataset = loaddata(stain_type, rett_type)\n",
    "\n",
    "            n_splits=5\n",
    "            splits=KFold(n_splits,shuffle=True,random_state=42)\n",
    "            history = {'acc_valid':[], 'auc_valid':[]}\n",
    "            for fold, (train_idx, val_idx) in enumerate(splits.split(np.arange(len(dataset)))):\n",
    "                if fold != 0: break\n",
    "                print(f\"Data {rett_type}, Model {rett_type_model}_Fold{fold}\", end='  ')\n",
    "                valid_sampler = SubsetRandomSampler(val_idx)\n",
    "                dataloader_valid = DataLoader(dataset, batch_size=batch_size, sampler=valid_sampler)\n",
    "\n",
    "                modelpath=f\"{homepath}/results/{rett_type_model}_{stain_type}_{model_type}/{rett_type_model}_{stain_type}_{model_type}_Fold{fold}.pkl\"\n",
    "                weight = torch.load(modelpath)\n",
    "\n",
    "                model = ResNet().to(device)\n",
    "                model.avgpool = nn.AdaptiveAvgPool2d(1)\n",
    "\n",
    "                acc_valid, auc_valid = valid(model, device, dataloader_valid)\n",
    "                print(f'Accuracy: {acc_valid:.3f}, AUC: {auc_valid:.3f}')\n",
    "                history['acc_valid'].append(acc_valid)\n",
    "                history['auc_valid'].append(auc_valid)"
   ]
  },
  {
   "cell_type": "code",
   "execution_count": null,
   "metadata": {},
   "outputs": [],
   "source": []
  },
  {
   "cell_type": "markdown",
   "metadata": {},
   "source": [
    "# 99. Save model"
   ]
  },
  {
   "cell_type": "code",
   "execution_count": 24,
   "metadata": {},
   "outputs": [],
   "source": [
    "for param in model.parameters():\n",
    "    param.requires_grad = True\n",
    "torch.save(model.module.resnet.state_dict(),\"Models/Resnet_H3K27ac.pkl\")"
   ]
  },
  {
   "cell_type": "code",
   "execution_count": 81,
   "metadata": {},
   "outputs": [],
   "source": [
    "class ResNet(nn.Module):\n",
    "        def __init__(self):\n",
    "            super(ResNet,self).__init__()\n",
    "            self.resnet = models.resnet18(weights=True)\n",
    "            self.resnet.layer3 = nn.Sequential()\n",
    "            self.resnet.layer4 = nn.Sequential()\n",
    "            self.resnet.avgpool = nn.Sequential()\n",
    "            self.resnet.fc = nn.Linear(128*75*75, 2)\n",
    "            self.resnet.load_state_dict(weight)\n",
    "        def forward(self, x):\n",
    "            x = self.resnet(x)\n",
    "            x = nn.Softmax(dim=1)(x)\n",
    "            return x\n",
    "model = ResNet()"
   ]
  },
  {
   "cell_type": "code",
   "execution_count": null,
   "metadata": {},
   "outputs": [],
   "source": []
  }
 ],
 "metadata": {
  "accelerator": "GPU",
  "colab": {
   "collapsed_sections": [],
   "name": "KIMIA_CNN.ipynb",
   "provenance": []
  },
  "kernelspec": {
   "display_name": "Python 3 (ipykernel)",
   "language": "python",
   "name": "python3"
  },
  "language_info": {
   "codemirror_mode": {
    "name": "ipython",
    "version": 3
   },
   "file_extension": ".py",
   "mimetype": "text/x-python",
   "name": "python",
   "nbconvert_exporter": "python",
   "pygments_lexer": "ipython3",
   "version": "3.10.14"
  },
  "toc": {
   "base_numbering": 1,
   "nav_menu": {},
   "number_sections": true,
   "sideBar": true,
   "skip_h1_title": false,
   "title_cell": "Table of Contents",
   "title_sidebar": "Contents",
   "toc_cell": false,
   "toc_position": {},
   "toc_section_display": true,
   "toc_window_display": false
  },
  "vscode": {
   "interpreter": {
    "hash": "e7370f93d1d0cde622a1f8e1c04877d8463912d04d973331ad4851f04de6915a"
   }
  }
 },
 "nbformat": 4,
 "nbformat_minor": 1
}
