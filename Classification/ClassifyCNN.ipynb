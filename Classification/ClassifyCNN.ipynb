{
 "cells": [
  {
   "cell_type": "code",
   "execution_count": 1,
   "metadata": {},
   "outputs": [
    {
     "name": "stderr",
     "output_type": "stream",
     "text": [
      "/home/acd13264yb/python10_env/lib/python3.10/site-packages/torchvision/io/image.py:13: UserWarning: Failed to load image Python extension: '/home/acd13264yb/python10_env/lib/python3.10/site-packages/torchvision/image.so: undefined symbol: _ZN3c104cuda20CUDACachingAllocator9allocatorE'If you don't plan on using image functionality from `torchvision.io`, you can ignore this warning. Otherwise, there might be something wrong with your environment. Did you have `libjpeg` or `libpng` installed before building `torchvision` from source?\n",
      "  warn(\n"
     ]
    }
   ],
   "source": [
    "import cv2,os\n",
    "from skimage import io\n",
    "from PIL import Image\n",
    "import numpy as np\n",
    "from matplotlib import pyplot as plt\n",
    "from tqdm import tqdm_notebook as tqdm\n",
    "\n",
    "from sklearn.model_selection import KFold\n",
    "from sklearn.metrics import roc_auc_score,precision_score,accuracy_score,roc_curve\n",
    "\n",
    "import torch\n",
    "from torch.utils.data import Dataset,TensorDataset,random_split,DataLoader,SubsetRandomSampler\n",
    "from torch.utils.data.dataset import Subset\n",
    "import torch.nn as nn\n",
    "import torch.nn.functional as F\n",
    "from torchvision import transforms\n",
    "import torchvision.models as models\n",
    "import sys\n",
    "\n",
    "if not sys.warnoptions:\n",
    "    import warnings\n",
    "    warnings.simplefilter(\"ignore\")"
   ]
  },
  {
   "cell_type": "code",
   "execution_count": 2,
   "metadata": {},
   "outputs": [
    {
     "name": "stdout",
     "output_type": "stream",
     "text": [
      "torch.device(cuda)\n",
      "torch.cuda.device_count():  4\n",
      "Tesla V100-SXM2-16GB\n",
      "Tesla V100-SXM2-16GB\n",
      "Tesla V100-SXM2-16GB\n",
      "Tesla V100-SXM2-16GB\n",
      "torch.cuda.current_device() 0\n"
     ]
    }
   ],
   "source": [
    "if torch.cuda.is_available():\n",
    "    device = torch.device(\"cuda\")\n",
    "    print(\"torch.device(cuda)\")\n",
    "    print(\"torch.cuda.device_count(): \", torch.cuda.device_count())\n",
    "    for i in range(torch.cuda.device_count()):\n",
    "        print(torch.cuda.get_device_name())\n",
    "    print(\"torch.cuda.current_device()\", torch.cuda.current_device())\n",
    "else:\n",
    "    device = torch.device(\"cpu\")\n",
    "    print(\"torch.device(cpu)\")"
   ]
  },
  {
   "cell_type": "markdown",
   "metadata": {
    "id": "aJjxv_T_DNKk"
   },
   "source": [
    "# 1. Read data"
   ]
  },
  {
   "cell_type": "code",
   "execution_count": 3,
   "metadata": {},
   "outputs": [
    {
     "name": "stdout",
     "output_type": "stream",
     "text": [
      "Datasets/CTRL_All.npy   Datasets/CTRL_Dapi.npy\r\n",
      "Datasets/CTRL_CTCF.npy  Datasets/CTRL_H3K27ac.npy\r\n"
     ]
    }
   ],
   "source": [
    "ls Datasets/CTRL*"
   ]
  },
  {
   "cell_type": "code",
   "execution_count": 4,
   "metadata": {},
   "outputs": [
    {
     "name": "stdout",
     "output_type": "stream",
     "text": [
      "Datasets/RETT_HPS3042_All.npy      Datasets/RETT_HPS3084_All.npy\r\n",
      "Datasets/RETT_HPS3042_CTCF.npy     Datasets/RETT_HPS3084_CTCF.npy\r\n",
      "Datasets/RETT_HPS3042_Dapi.npy     Datasets/RETT_HPS3084_Dapi.npy\r\n",
      "Datasets/RETT_HPS3042_H3K27ac.npy  Datasets/RETT_HPS3084_H3K27ac.npy\r\n",
      "Datasets/RETT_HPS3049_All.npy      Datasets/RETT_HPS9999_All.npy\r\n",
      "Datasets/RETT_HPS3049_CTCF.npy     Datasets/RETT_HPS9999_CTCF.npy\r\n",
      "Datasets/RETT_HPS3049_Dapi.npy     Datasets/RETT_HPS9999_Dapi.npy\r\n",
      "Datasets/RETT_HPS3049_H3K27ac.npy  Datasets/RETT_HPS9999_H3K27ac.npy\r\n"
     ]
    }
   ],
   "source": [
    "ls Datasets/RETT*"
   ]
  },
  {
   "cell_type": "code",
   "execution_count": 5,
   "metadata": {},
   "outputs": [],
   "source": [
    "stain_type = \"H3K27ac\"\n",
    "rett_type  = \"HPS3042\"\n",
    "\n",
    "X_Ctrl = np.load(f\"./Datasets/CTRL_{stain_type}.npy\",allow_pickle=True)\n",
    "X_Rett = np.load(f\"./Datasets/RETT_{rett_type}_{stain_type}.npy\",allow_pickle=True)\n",
    "y_Ctrl = torch.zeros(len(X_Ctrl), dtype=torch.int64)\n",
    "y_Rett = torch.ones(len(X_Rett), dtype=torch.int64)\n",
    "X = np.concatenate((X_Ctrl, X_Rett), axis = 0)\n",
    "y = torch.cat((y_Ctrl, y_Rett), 0)"
   ]
  },
  {
   "cell_type": "markdown",
   "metadata": {
    "id": "qyvCoE-HDNKm"
   },
   "source": [
    "# 2. Data processing"
   ]
  },
  {
   "cell_type": "code",
   "execution_count": 6,
   "metadata": {
    "executionInfo": {
     "elapsed": 290,
     "status": "ok",
     "timestamp": 1627023529885,
     "user": {
      "displayName": "Yicheng Wang",
      "photoUrl": "https://lh3.googleusercontent.com/a-/AOh14GgziKLn_im8Zl7A_SAzLLRm66nioH7fG0xuCYpJYg=s64",
      "userId": "10487961361854797289"
     },
     "user_tz": -540
    },
    "id": "Fh058iRlDNKm"
   },
   "outputs": [],
   "source": [
    "class cell_dataset(Dataset):\n",
    "    def __init__(self, x, y):\n",
    "        self.x = x\n",
    "        self.y = y\n",
    "        self.transform = transforms.ToTensor()\n",
    "    def __len__(self):\n",
    "        return len(self.x)\n",
    "    def __getitem__(self, idx):\n",
    "        return self.transform(self.x[idx]).to(torch.float), F.one_hot(self.y[idx],num_classes=2).to(torch.float)\n",
    "\n",
    "dataset = cell_dataset(X, y)"
   ]
  },
  {
   "cell_type": "code",
   "execution_count": 7,
   "metadata": {},
   "outputs": [],
   "source": [
    "batch_size = 64\n",
    "train_size = int(len(X)*0.8)\n",
    "valid_size = len(X) - train_size\n",
    "\n",
    "# train_data, valid_data = random_split(dataset=dataset, lengths=[train_size, valid_size], \n",
    "#                                       generator=torch.Generator().manual_seed(42))\n",
    "# dataloader_train = DataLoader(train_data, batch_size=batch_size, shuffle=True)\n",
    "# dataloader_valid = DataLoader(valid_data, batch_size=batch_size, shuffle=True)\n",
    "dataloader_valid = DataLoader(dataset, batch_size=batch_size, shuffle=True)"
   ]
  },
  {
   "cell_type": "markdown",
   "metadata": {
    "id": "-KBoEbEMDNKo"
   },
   "source": [
    "# 3. ResNet model"
   ]
  },
  {
   "cell_type": "code",
   "execution_count": 8,
   "metadata": {},
   "outputs": [
    {
     "name": "stdout",
     "output_type": "stream",
     "text": [
      "/groups/4/gaa50089/acd13264yb/Rettsyndrome/Classification/results/HPS3042_H3K27ac_Resnet10_noavg/HPS3042_H3K27ac_Resnet10_noavg_Fold0.pkl\n"
     ]
    }
   ],
   "source": [
    "model_type=\"Resnet10_noavg\"\n",
    "rett_type_test = \"HPS3042\"\n",
    "homepath=\"/groups/4/gaa50089/acd13264yb/Rettsyndrome/Classification\"\n",
    "modelpath=f\"{homepath}/results/{rett_type_test}_{stain_type}_{model_type}/{rett_type_test}_{stain_type}_{model_type}_Fold0.pkl\"\n",
    "weight = torch.load(modelpath)\n",
    "print(modelpath)"
   ]
  },
  {
   "cell_type": "code",
   "execution_count": null,
   "metadata": {},
   "outputs": [],
   "source": []
  },
  {
   "cell_type": "code",
   "execution_count": 27,
   "metadata": {
    "id": "xs6IXgvsDNKp",
    "scrolled": false
   },
   "outputs": [],
   "source": [
    "if model_type==\"Resnet10_noavg\":\n",
    "    from models.Resnet10_noavg import MyModel\n",
    "elif model_type==\"Resnet10_noavg\":\n",
    "    from models.Resnet10 import MyModel\n",
    "elif model_type==\"Resnet18\":\n",
    "    from models.Resnet18 import MyModel\n",
    "    \n",
    "model = MyModel().to(device)"
   ]
  },
  {
   "cell_type": "code",
   "execution_count": 28,
   "metadata": {},
   "outputs": [],
   "source": [
    "ngpu = 1\n",
    "if (device.type == 'cuda') and (ngpu > 1):\n",
    "    model = nn.DataParallel(model, list(range(ngpu)))"
   ]
  },
  {
   "cell_type": "code",
   "execution_count": 29,
   "metadata": {},
   "outputs": [
    {
     "name": "stdout",
     "output_type": "stream",
     "text": [
      "torch.Size([1, 2])\n",
      "tensor([[-0.0843,  0.0411]], device='cuda:0', grad_fn=<AddmmBackward0>)\n",
      "tensor([[0.4687, 0.5313]], device='cuda:0', grad_fn=<SoftmaxBackward0>)\n",
      "tensor([1], device='cuda:0')\n"
     ]
    }
   ],
   "source": [
    "image_size = 500\n",
    "test_input = torch.ones(1,3,image_size,image_size).to(device)\n",
    "output = model(test_input)\n",
    "print(output.size())\n",
    "print(output)\n",
    "print(nn.Softmax(dim=1)(output))\n",
    "print(output.argmax(1))"
   ]
  },
  {
   "cell_type": "markdown",
   "metadata": {},
   "source": [
    "# 4. Train"
   ]
  },
  {
   "cell_type": "code",
   "execution_count": 12,
   "metadata": {},
   "outputs": [],
   "source": [
    "model.avgpool = nn.AdaptiveAvgPool2d(1)\n",
    "\n",
    "# loss_function = nn.BCELoss()\n",
    "weights = torch.tensor([(len(X_Ctrl)+len(X_Rett))/len(X_Ctrl), \n",
    "                        (len(X_Ctrl)+len(X_Rett))/len(X_Rett)]).cuda()\n",
    "# loss_function = nn.CrossEntropyLoss(weight=weights)\n",
    "loss_function = nn.BCEWithLogitsLoss(pos_weight=weights)\n",
    "\n",
    "optimizer = torch.optim.Adam(model.parameters(), lr=0.0001)\n",
    "scheduler = torch.optim.lr_scheduler.ExponentialLR(optimizer, gamma=0.99)\n",
    "\n",
    "def train(model,device,dataloader_train,loss_function,optimizer):\n",
    "    losses_train = []\n",
    "    n_train = 0\n",
    "    acc_train = 0\n",
    "    optimizer.step()\n",
    "    model.train()\n",
    "    for x, y in dataloader_train:\n",
    "        n_train += y.size()[0]\n",
    "        model.zero_grad()  # 勾配の初期化\n",
    "        x = x.to(device)  # テンソルをGPUに移動\n",
    "        y = y.to(device)\n",
    "        output = model(x)  # 順伝播\n",
    "        loss = loss_function(output, y)  # 誤差(クロスエントロピー誤差関数)の計算\n",
    "        loss.backward()  # 誤差の逆伝播\n",
    "        optimizer.step()  # パラメータの更新\n",
    "        acc_train += (output.argmax(1) == y[:,1]).float().sum().item()\n",
    "        losses_train.append(loss.tolist())\n",
    "    return np.mean(losses_train), (acc_train/n_train)\n",
    "        \n",
    "def valid(model,device,dataloader_valid,loss_function):\n",
    "    losses_valid = []\n",
    "    n_val = 0\n",
    "    acc_val = 0\n",
    "    model.eval()\n",
    "    for x, y in dataloader_valid:\n",
    "        n_val += y.size()[0]\n",
    "        x = x.to(device)  # テンソルをGPUに移動\n",
    "        y = y.to(device)\n",
    "        output = model(x)  # 順伝播\n",
    "        loss = loss_function(output, y)  # 誤差(クロスエントロピー誤差関数)の計算\n",
    "        acc_val += (output.argmax(1) == y[:,1]).float().sum().item()\n",
    "        losses_valid.append(loss.tolist())\n",
    "    return np.mean(losses_valid), (acc_val/n_val)\n",
    "\n",
    "history = {'loss_train': [], 'loss_valid': [],'acc_train':[],'acc_valid':[]}"
   ]
  },
  {
   "cell_type": "code",
   "execution_count": 14,
   "metadata": {
    "scrolled": true
   },
   "outputs": [],
   "source": [
    "# n_epochs = 10\n",
    "# for epoch in range(n_epochs):\n",
    "#     loss_train, acc_train = train(model,device,dataloader_train,loss_function,optimizer)\n",
    "#     loss_valid, acc_valid = valid(model,device,dataloader_valid,loss_function)\n",
    "#     scheduler.step()\n",
    "    \n",
    "#     history['loss_train'].append(loss_train)\n",
    "#     history['loss_valid'].append(loss_valid)\n",
    "#     history['acc_train'].append(acc_train)\n",
    "#     history['acc_valid'].append(acc_valid)\n",
    "#     print('EPOCH: {}, Train [Loss: {:.3f}, Accuracy: {:.3f}], Valid [Loss: {:.3f}, Accuracy: {:.3f}]'\n",
    "#           .format(epoch, loss_train, acc_train, loss_valid, acc_valid))"
   ]
  },
  {
   "cell_type": "code",
   "execution_count": 15,
   "metadata": {},
   "outputs": [],
   "source": [
    "# # train processing plot\n",
    "# n_epochs = 50\n",
    "# epochs=range(1,n_epochs+1)\n",
    "# plt.ylim(0,1.0)\n",
    "# plt.plot(epochs, history['acc_train'], 'b', label='Training accuracy')  \n",
    "# plt.plot(epochs, history['acc_valid'], 'r', label='Validation accuracy')\n",
    "# plt.title('Training and Validation accuracy')\n",
    "# plt.legend()\n",
    "# plt.figure()\n",
    "# plt.show()"
   ]
  },
  {
   "cell_type": "markdown",
   "metadata": {},
   "source": [
    "# 4. Validate data"
   ]
  },
  {
   "cell_type": "code",
   "execution_count": 36,
   "metadata": {},
   "outputs": [],
   "source": [
    "def plot_and_save_roc_curve(y_true, y_scores):\n",
    "    fpr, tpr, _ = roc_curve(y_true, y_scores)\n",
    "    auc_score = roc_auc_score(y_true, y_scores)\n",
    "    return auc_score\n",
    "\n",
    "def valid(model, device, dataloader_valid):\n",
    "    model.eval()\n",
    "    y_true = []\n",
    "    y_scores = []\n",
    "    acc_val = 0\n",
    "    n_val = 0\n",
    "    for x, y in dataloader_valid:\n",
    "        n_val += y.size()[0]\n",
    "        x, y = x.to(device), y.to(device)\n",
    "        with torch.no_grad():\n",
    "            output = model(x)\n",
    "        y_true.extend(y[:,1].tolist())  # 假设y的第二列是标签\n",
    "        y_scores.extend(output[:,1].sigmoid().tolist())  # 假设模型的第二个输出是预测为正类的得分\n",
    "        acc_val += (output.argmax(1) == y[:,1]).float().sum().item()\n",
    "    auc_score = plot_and_save_roc_curve(y_true, y_scores)  # 调用ROC绘图函数\n",
    "    return acc_val / n_val, auc_score\n",
    "\n",
    "def loaddata(stain_type, rett_type):\n",
    "    X_Ctrl = np.load(f\"{homepath}/Datasets_LR/CTRL_{stain_type}.npy\",allow_pickle=True)\n",
    "    X_Rett = np.load(f\"{homepath}/Datasets_LR/RETT_{rett_type}_{stain_type}.npy\",allow_pickle=True)\n",
    "    y_Ctrl = torch.zeros(len(X_Ctrl), dtype=torch.int64)\n",
    "    y_Rett = torch.ones(len(X_Rett), dtype=torch.int64)\n",
    "    X = np.concatenate((X_Ctrl, X_Rett), axis = 0)\n",
    "    y = torch.cat((y_Ctrl, y_Rett), 0)\n",
    "    dataset = cell_dataset(X, y)\n",
    "    return dataset"
   ]
  },
  {
   "cell_type": "code",
   "execution_count": 37,
   "metadata": {
    "scrolled": true
   },
   "outputs": [
    {
     "name": "stdout",
     "output_type": "stream",
     "text": [
      "All\n",
      "Data HPS3042, Model HPS3042_Fold0  Accuracy: 0.975, AUC: 0.996\n",
      "Data HPS3042, Model HPS3042_Fold1  Accuracy: 0.990, AUC: 0.999\n",
      "Data HPS3042, Model HPS3042_Fold2  Accuracy: 0.975, AUC: 0.997\n",
      "Data HPS3042, Model HPS3042_Fold3  Accuracy: 0.979, AUC: 0.997\n",
      "Data HPS3042, Model HPS3042_Fold4  Accuracy: 0.983, AUC: 0.998\n",
      "0.9805938801376064 0.9975356603621094\n",
      "\n",
      "Data HPS3042, Model HPS3049_Fold0  Accuracy: 0.842, AUC: 0.931\n",
      "Data HPS3042, Model HPS3049_Fold1  Accuracy: 0.850, AUC: 0.947\n",
      "Data HPS3042, Model HPS3049_Fold2  Accuracy: 0.816, AUC: 0.954\n",
      "Data HPS3042, Model HPS3049_Fold3  Accuracy: 0.762, AUC: 0.868\n",
      "Data HPS3042, Model HPS3049_Fold4  Accuracy: 0.804, AUC: 0.890\n",
      "0.8146637696903856 0.9180023682368604\n",
      "\n",
      "Data HPS3042, Model HPS3084_Fold0  Accuracy: 0.911, AUC: 0.979\n",
      "Data HPS3042, Model HPS3084_Fold1  Accuracy: 0.926, AUC: 0.987\n",
      "Data HPS3042, Model HPS3084_Fold2  Accuracy: 0.894, AUC: 0.970\n",
      "Data HPS3042, Model HPS3084_Fold3  Accuracy: 0.907, AUC: 0.978\n",
      "Data HPS3042, Model HPS3084_Fold4  Accuracy: 0.907, AUC: 0.968\n",
      "0.9086742712294044 0.9762643042761063\n",
      "\n",
      "Data HPS3049, Model HPS3042_Fold0  Accuracy: 0.635, AUC: 0.843\n",
      "Data HPS3049, Model HPS3042_Fold1  Accuracy: 0.594, AUC: 0.825\n",
      "Data HPS3049, Model HPS3042_Fold2  Accuracy: 0.614, AUC: 0.846\n",
      "Data HPS3049, Model HPS3042_Fold3  Accuracy: 0.648, AUC: 0.870\n",
      "Data HPS3049, Model HPS3042_Fold4  Accuracy: 0.630, AUC: 0.826\n",
      "0.6241443726451831 0.841791333545913\n",
      "\n",
      "Data HPS3049, Model HPS3049_Fold0  Accuracy: 0.906, AUC: 0.970\n",
      "Data HPS3049, Model HPS3049_Fold1  Accuracy: 0.920, AUC: 0.974\n",
      "Data HPS3049, Model HPS3049_Fold2  Accuracy: 0.891, AUC: 0.958\n",
      "Data HPS3049, Model HPS3049_Fold3  Accuracy: 0.886, AUC: 0.961\n",
      "Data HPS3049, Model HPS3049_Fold4  Accuracy: 0.912, AUC: 0.966\n",
      "0.9032772737797048 0.9658106292396503\n",
      "\n",
      "Data HPS3049, Model HPS3084_Fold0  Accuracy: 0.676, AUC: 0.849\n",
      "Data HPS3049, Model HPS3084_Fold1  Accuracy: 0.713, AUC: 0.878\n",
      "Data HPS3049, Model HPS3084_Fold2  Accuracy: 0.607, AUC: 0.790\n",
      "Data HPS3049, Model HPS3084_Fold3  Accuracy: 0.700, AUC: 0.850\n",
      "Data HPS3049, Model HPS3084_Fold4  Accuracy: 0.695, AUC: 0.859\n",
      "0.6780273211391525 0.8450559674074676\n",
      "\n",
      "Data HPS3084, Model HPS3042_Fold0  Accuracy: 0.980, AUC: 0.998\n",
      "Data HPS3084, Model HPS3042_Fold1  Accuracy: 0.989, AUC: 1.000\n",
      "Data HPS3084, Model HPS3042_Fold2  Accuracy: 0.987, AUC: 0.999\n",
      "Data HPS3084, Model HPS3042_Fold3  Accuracy: 0.980, AUC: 0.999\n",
      "Data HPS3084, Model HPS3042_Fold4  Accuracy: 0.982, AUC: 0.999\n",
      "0.9836333878887071 0.9987813508845855\n",
      "\n",
      "Data HPS3084, Model HPS3049_Fold0  Accuracy: 0.912, AUC: 0.974\n",
      "Data HPS3084, Model HPS3049_Fold1  Accuracy: 0.872, AUC: 0.956\n",
      "Data HPS3084, Model HPS3049_Fold2  Accuracy: 0.907, AUC: 0.977\n",
      "Data HPS3084, Model HPS3049_Fold3  Accuracy: 0.863, AUC: 0.941\n",
      "Data HPS3084, Model HPS3049_Fold4  Accuracy: 0.872, AUC: 0.944\n",
      "0.8851063829787235 0.958321524013958\n",
      "\n",
      "Data HPS3084, Model HPS3084_Fold0  Accuracy: 0.987, AUC: 1.000\n",
      "Data HPS3084, Model HPS3084_Fold1  Accuracy: 0.985, AUC: 0.997\n",
      "Data HPS3084, Model HPS3084_Fold2  Accuracy: 0.977, AUC: 0.998\n",
      "Data HPS3084, Model HPS3084_Fold3  Accuracy: 0.985, AUC: 0.999\n",
      "Data HPS3084, Model HPS3084_Fold4  Accuracy: 0.982, AUC: 0.998\n",
      "0.9833060556464812 0.9984224946350018\n",
      "\n",
      "H3K27ac\n",
      "Data HPS3042, Model HPS3042_Fold0  Accuracy: 0.899, AUC: 0.956\n",
      "Data HPS3042, Model HPS3042_Fold1  Accuracy: 0.895, AUC: 0.947\n",
      "Data HPS3042, Model HPS3042_Fold2  Accuracy: 0.892, AUC: 0.962\n",
      "Data HPS3042, Model HPS3042_Fold3  Accuracy: 0.886, AUC: 0.960\n",
      "Data HPS3042, Model HPS3042_Fold4  Accuracy: 0.899, AUC: 0.959\n",
      "0.8942147383668295 0.9569281403656202\n",
      "\n",
      "Data HPS3042, Model HPS3049_Fold0  Accuracy: 0.652, AUC: 0.693\n",
      "Data HPS3042, Model HPS3049_Fold1  Accuracy: 0.702, AUC: 0.742\n",
      "Data HPS3042, Model HPS3049_Fold2  Accuracy: 0.652, AUC: 0.638\n",
      "Data HPS3042, Model HPS3049_Fold3  Accuracy: 0.604, AUC: 0.562\n",
      "Data HPS3042, Model HPS3049_Fold4  Accuracy: 0.592, AUC: 0.492\n",
      "0.6403787796487416 0.625414876977948\n",
      "\n",
      "Data HPS3042, Model HPS3084_Fold0  Accuracy: 0.899, AUC: 0.964\n",
      "Data HPS3042, Model HPS3084_Fold1  Accuracy: 0.916, AUC: 0.970\n",
      "Data HPS3042, Model HPS3084_Fold2  Accuracy: 0.920, AUC: 0.978\n",
      "Data HPS3042, Model HPS3084_Fold3  Accuracy: 0.891, AUC: 0.950\n",
      "Data HPS3042, Model HPS3084_Fold4  Accuracy: 0.853, AUC: 0.925\n",
      "0.896100669925765 0.9572757287348754\n",
      "\n",
      "Data HPS3049, Model HPS3042_Fold0  Accuracy: 0.580, AUC: 0.424\n",
      "Data HPS3049, Model HPS3042_Fold1  Accuracy: 0.545, AUC: 0.414\n",
      "Data HPS3049, Model HPS3042_Fold2  Accuracy: 0.555, AUC: 0.523\n",
      "Data HPS3049, Model HPS3042_Fold3  Accuracy: 0.562, AUC: 0.469\n",
      "Data HPS3049, Model HPS3042_Fold4  Accuracy: 0.547, AUC: 0.378\n",
      "0.5579284977583194 0.4414538312380717\n",
      "\n",
      "Data HPS3049, Model HPS3049_Fold0  Accuracy: 0.716, AUC: 0.777\n",
      "Data HPS3049, Model HPS3049_Fold1  Accuracy: 0.695, AUC: 0.781\n",
      "Data HPS3049, Model HPS3049_Fold2  Accuracy: 0.713, AUC: 0.787\n",
      "Data HPS3049, Model HPS3049_Fold3  Accuracy: 0.709, AUC: 0.766\n",
      "Data HPS3049, Model HPS3049_Fold4  Accuracy: 0.732, AUC: 0.792\n",
      "0.7130791008019532 0.7806351434913144\n",
      "\n",
      "Data HPS3049, Model HPS3084_Fold0  Accuracy: 0.572, AUC: 0.425\n",
      "Data HPS3049, Model HPS3084_Fold1  Accuracy: 0.524, AUC: 0.394\n",
      "Data HPS3049, Model HPS3084_Fold2  Accuracy: 0.539, AUC: 0.454\n",
      "Data HPS3049, Model HPS3084_Fold3  Accuracy: 0.529, AUC: 0.419\n",
      "Data HPS3049, Model HPS3084_Fold4  Accuracy: 0.521, AUC: 0.384\n",
      "0.5371519080595256 0.415316997981484\n",
      "\n",
      "Data HPS3084, Model HPS3042_Fold0  Accuracy: 0.899, AUC: 0.978\n",
      "Data HPS3084, Model HPS3042_Fold1  Accuracy: 0.903, AUC: 0.976\n",
      "Data HPS3084, Model HPS3042_Fold2  Accuracy: 0.884, AUC: 0.982\n",
      "Data HPS3084, Model HPS3042_Fold3  Accuracy: 0.902, AUC: 0.971\n",
      "Data HPS3084, Model HPS3042_Fold4  Accuracy: 0.872, AUC: 0.951\n",
      "0.8919803600654663 0.9715999512162267\n",
      "\n",
      "Data HPS3084, Model HPS3049_Fold0  Accuracy: 0.578, AUC: 0.595\n",
      "Data HPS3084, Model HPS3049_Fold1  Accuracy: 0.573, AUC: 0.587\n",
      "Data HPS3084, Model HPS3049_Fold2  Accuracy: 0.538, AUC: 0.500\n",
      "Data HPS3084, Model HPS3049_Fold3  Accuracy: 0.548, AUC: 0.475\n",
      "Data HPS3084, Model HPS3049_Fold4  Accuracy: 0.529, AUC: 0.462\n",
      "0.553191489361702 0.5238461633020768\n",
      "\n",
      "Data HPS3084, Model HPS3084_Fold0  Accuracy: 0.890, AUC: 0.959\n",
      "Data HPS3084, Model HPS3084_Fold1  Accuracy: 0.866, AUC: 0.944\n",
      "Data HPS3084, Model HPS3084_Fold2  Accuracy: 0.887, AUC: 0.956\n",
      "Data HPS3084, Model HPS3084_Fold3  Accuracy: 0.890, AUC: 0.954\n",
      "Data HPS3084, Model HPS3084_Fold4  Accuracy: 0.858, AUC: 0.931\n",
      "0.8782324058919804 0.9485357891121243\n",
      "\n",
      "CTCF\n",
      "Data HPS3042, Model HPS3042_Fold0  Accuracy: 0.863, AUC: 0.923\n",
      "Data HPS3042, Model HPS3042_Fold1  Accuracy: 0.833, AUC: 0.918\n",
      "Data HPS3042, Model HPS3042_Fold2  Accuracy: 0.857, AUC: 0.918\n",
      "Data HPS3042, Model HPS3042_Fold3  Accuracy: 0.851, AUC: 0.922\n",
      "Data HPS3042, Model HPS3042_Fold4  Accuracy: 0.859, AUC: 0.908\n",
      "0.8527416259279377 0.9178221217933105\n",
      "\n",
      "Data HPS3042, Model HPS3049_Fold0  Accuracy: 0.652, AUC: 0.639\n",
      "Data HPS3042, Model HPS3049_Fold1  Accuracy: 0.707, AUC: 0.693\n",
      "Data HPS3042, Model HPS3049_Fold2  Accuracy: 0.667, AUC: 0.625\n",
      "Data HPS3042, Model HPS3049_Fold3  Accuracy: 0.630, AUC: 0.583\n",
      "Data HPS3042, Model HPS3049_Fold4  Accuracy: 0.608, AUC: 0.454\n",
      "0.6529422415353975 0.5989461419524269\n",
      "\n",
      "Data HPS3042, Model HPS3084_Fold0  Accuracy: 0.760, AUC: 0.940\n",
      "Data HPS3042, Model HPS3084_Fold1  Accuracy: 0.814, AUC: 0.945\n",
      "Data HPS3042, Model HPS3084_Fold2  Accuracy: 0.779, AUC: 0.893\n",
      "Data HPS3042, Model HPS3084_Fold3  Accuracy: 0.800, AUC: 0.927\n",
      "Data HPS3042, Model HPS3084_Fold4  Accuracy: 0.802, AUC: 0.919\n",
      "0.7911033858410285 0.9246982647246644\n",
      "\n",
      "Data HPS3049, Model HPS3042_Fold0  Accuracy: 0.603, AUC: 0.592\n",
      "Data HPS3049, Model HPS3042_Fold1  Accuracy: 0.568, AUC: 0.611\n",
      "Data HPS3049, Model HPS3042_Fold2  Accuracy: 0.575, AUC: 0.611\n",
      "Data HPS3049, Model HPS3042_Fold3  Accuracy: 0.589, AUC: 0.614\n",
      "Data HPS3049, Model HPS3042_Fold4  Accuracy: 0.557, AUC: 0.502\n",
      "0.5783756761876697 0.5860347188643438\n",
      "\n",
      "Data HPS3049, Model HPS3049_Fold0  Accuracy: 0.770, AUC: 0.835\n",
      "Data HPS3049, Model HPS3049_Fold1  Accuracy: 0.739, AUC: 0.834\n",
      "Data HPS3049, Model HPS3049_Fold2  Accuracy: 0.735, AUC: 0.820\n",
      "Data HPS3049, Model HPS3049_Fold3  Accuracy: 0.761, AUC: 0.840\n",
      "Data HPS3049, Model HPS3049_Fold4  Accuracy: 0.771, AUC: 0.837\n",
      "0.7552695278789281 0.8332666056361603\n",
      "\n",
      "Data HPS3049, Model HPS3084_Fold0  Accuracy: 0.579, AUC: 0.534\n"
     ]
    },
    {
     "name": "stdout",
     "output_type": "stream",
     "text": [
      "Data HPS3049, Model HPS3084_Fold1  Accuracy: 0.563, AUC: 0.527\n",
      "Data HPS3049, Model HPS3084_Fold2  Accuracy: 0.555, AUC: 0.460\n",
      "Data HPS3049, Model HPS3084_Fold3  Accuracy: 0.570, AUC: 0.481\n",
      "Data HPS3049, Model HPS3084_Fold4  Accuracy: 0.570, AUC: 0.438\n",
      "0.5673446083899892 0.4879134613313057\n",
      "\n",
      "Data HPS3084, Model HPS3042_Fold0  Accuracy: 0.953, AUC: 0.990\n",
      "Data HPS3084, Model HPS3042_Fold1  Accuracy: 0.959, AUC: 0.990\n",
      "Data HPS3084, Model HPS3042_Fold2  Accuracy: 0.953, AUC: 0.991\n",
      "Data HPS3084, Model HPS3042_Fold3  Accuracy: 0.954, AUC: 0.991\n",
      "Data HPS3084, Model HPS3042_Fold4  Accuracy: 0.918, AUC: 0.975\n",
      "0.9472995090016367 0.9873241489554415\n",
      "\n",
      "Data HPS3084, Model HPS3049_Fold0  Accuracy: 0.643, AUC: 0.700\n",
      "Data HPS3084, Model HPS3049_Fold1  Accuracy: 0.643, AUC: 0.678\n",
      "Data HPS3084, Model HPS3049_Fold2  Accuracy: 0.610, AUC: 0.627\n",
      "Data HPS3084, Model HPS3049_Fold3  Accuracy: 0.632, AUC: 0.627\n",
      "Data HPS3084, Model HPS3049_Fold4  Accuracy: 0.607, AUC: 0.578\n",
      "0.6271685761047464 0.6419179889527351\n",
      "\n",
      "Data HPS3084, Model HPS3084_Fold0  Accuracy: 0.933, AUC: 0.987\n",
      "Data HPS3084, Model HPS3084_Fold1  Accuracy: 0.957, AUC: 0.988\n",
      "Data HPS3084, Model HPS3084_Fold2  Accuracy: 0.948, AUC: 0.993\n",
      "Data HPS3084, Model HPS3084_Fold3  Accuracy: 0.956, AUC: 0.993\n",
      "Data HPS3084, Model HPS3084_Fold4  Accuracy: 0.972, AUC: 0.994\n",
      "0.9531914893617021 0.990977305621956\n",
      "\n",
      "Dapi\n",
      "Data HPS3042, Model HPS3042_Fold0  Accuracy: 0.793, AUC: 0.820\n",
      "Data HPS3042, Model HPS3042_Fold1  Accuracy: 0.800, AUC: 0.839\n",
      "Data HPS3042, Model HPS3042_Fold2  Accuracy: 0.797, AUC: 0.854\n",
      "Data HPS3042, Model HPS3042_Fold3  Accuracy: 0.813, AUC: 0.844\n",
      "Data HPS3042, Model HPS3042_Fold4  Accuracy: 0.794, AUC: 0.833\n",
      "0.799470577584646 0.8380397141051763\n",
      "\n",
      "Data HPS3042, Model HPS3049_Fold0  Accuracy: 0.732, AUC: 0.814\n",
      "Data HPS3042, Model HPS3049_Fold1  Accuracy: 0.797, AUC: 0.881\n",
      "Data HPS3042, Model HPS3049_Fold2  Accuracy: 0.778, AUC: 0.856\n",
      "Data HPS3042, Model HPS3049_Fold3  Accuracy: 0.688, AUC: 0.770\n",
      "Data HPS3042, Model HPS3049_Fold4  Accuracy: 0.621, AUC: 0.643\n",
      "0.7229310157523086 0.7926558802546344\n",
      "\n",
      "Data HPS3042, Model HPS3084_Fold0  Accuracy: 0.833, AUC: 0.894\n",
      "Data HPS3042, Model HPS3084_Fold1  Accuracy: 0.844, AUC: 0.909\n",
      "Data HPS3042, Model HPS3084_Fold2  Accuracy: 0.844, AUC: 0.912\n",
      "Data HPS3042, Model HPS3084_Fold3  Accuracy: 0.792, AUC: 0.871\n",
      "Data HPS3042, Model HPS3084_Fold4  Accuracy: 0.750, AUC: 0.773\n",
      "0.812753938077132 0.8717383566562986\n",
      "\n",
      "Data HPS3049, Model HPS3042_Fold0  Accuracy: 0.634, AUC: 0.646\n",
      "Data HPS3049, Model HPS3042_Fold1  Accuracy: 0.623, AUC: 0.673\n",
      "Data HPS3049, Model HPS3042_Fold2  Accuracy: 0.614, AUC: 0.703\n",
      "Data HPS3049, Model HPS3042_Fold3  Accuracy: 0.638, AUC: 0.664\n",
      "Data HPS3049, Model HPS3042_Fold4  Accuracy: 0.612, AUC: 0.591\n",
      "0.6241448988612684 0.6553871160630946\n",
      "\n",
      "Data HPS3049, Model HPS3049_Fold0  Accuracy: 0.627, AUC: 0.686\n",
      "Data HPS3049, Model HPS3049_Fold1  Accuracy: 0.661, AUC: 0.700\n",
      "Data HPS3049, Model HPS3049_Fold2  Accuracy: 0.683, AUC: 0.725\n",
      "Data HPS3049, Model HPS3049_Fold3  Accuracy: 0.635, AUC: 0.688\n",
      "Data HPS3049, Model HPS3049_Fold4  Accuracy: 0.651, AUC: 0.725\n",
      "0.6514197309983372 0.7049582983296597\n",
      "\n",
      "Data HPS3049, Model HPS3084_Fold0  Accuracy: 0.618, AUC: 0.637\n",
      "Data HPS3049, Model HPS3084_Fold1  Accuracy: 0.599, AUC: 0.628\n",
      "Data HPS3049, Model HPS3084_Fold2  Accuracy: 0.563, AUC: 0.564\n",
      "Data HPS3049, Model HPS3084_Fold3  Accuracy: 0.593, AUC: 0.576\n",
      "Data HPS3049, Model HPS3084_Fold4  Accuracy: 0.597, AUC: 0.558\n",
      "0.593955355827317 0.5926158239584064\n",
      "\n",
      "Data HPS3084, Model HPS3042_Fold0  Accuracy: 0.741, AUC: 0.815\n",
      "Data HPS3084, Model HPS3042_Fold1  Accuracy: 0.758, AUC: 0.857\n",
      "Data HPS3084, Model HPS3042_Fold2  Accuracy: 0.723, AUC: 0.823\n",
      "Data HPS3084, Model HPS3042_Fold3  Accuracy: 0.746, AUC: 0.815\n",
      "Data HPS3084, Model HPS3042_Fold4  Accuracy: 0.725, AUC: 0.762\n",
      "0.7387888707037644 0.8144474306817167\n",
      "\n",
      "Data HPS3084, Model HPS3049_Fold0  Accuracy: 0.645, AUC: 0.700\n",
      "Data HPS3084, Model HPS3049_Fold1  Accuracy: 0.682, AUC: 0.752\n",
      "Data HPS3084, Model HPS3049_Fold2  Accuracy: 0.632, AUC: 0.678\n",
      "Data HPS3084, Model HPS3049_Fold3  Accuracy: 0.573, AUC: 0.604\n",
      "Data HPS3084, Model HPS3049_Fold4  Accuracy: 0.596, AUC: 0.621\n",
      "0.6255319148936169 0.6707442535441229\n",
      "\n",
      "Data HPS3084, Model HPS3084_Fold0  Accuracy: 0.717, AUC: 0.794\n",
      "Data HPS3084, Model HPS3084_Fold1  Accuracy: 0.727, AUC: 0.780\n",
      "Data HPS3084, Model HPS3084_Fold2  Accuracy: 0.692, AUC: 0.753\n",
      "Data HPS3084, Model HPS3084_Fold3  Accuracy: 0.714, AUC: 0.783\n",
      "Data HPS3084, Model HPS3084_Fold4  Accuracy: 0.722, AUC: 0.774\n",
      "0.7142389525368248 0.7767199623012313\n",
      "\n"
     ]
    }
   ],
   "source": [
    "stain_type = \"H3K27ac\"\n",
    "rett_type  = \"HPS3042\"\n",
    "model_type=\"Resnet10_noavg\"\n",
    "rett_type_model = \"HPS3042\"\n",
    "homepath=\"/groups/4/gaa50089/acd13264yb/Rettsyndrome/Classification\"\n",
    "\n",
    "stain_list = [\"All\", \"H3K27ac\", \"CTCF\", \"Dapi\"]\n",
    "rett_list = [\"HPS3042\", \"HPS3049\", \"HPS3084\"]\n",
    "for stain_type in stain_list:\n",
    "    print(f\"{stain_type}\")\n",
    "\n",
    "    for rett_type in rett_list:\n",
    "        for rett_type_model in rett_list:\n",
    "            dataset = loaddata(stain_type, rett_type)\n",
    "\n",
    "            n_splits=5\n",
    "            splits=KFold(n_splits,shuffle=True,random_state=42)\n",
    "            history = {'acc_valid':[], 'auc_valid':[]}\n",
    "            \n",
    "            for fold, (train_idx, val_idx) in enumerate(splits.split(np.arange(len(dataset)))):\n",
    "#                 if fold != 0: break\n",
    "                print(f\"Data {rett_type}, Model {rett_type_model}_Fold{fold}\", end='  ')\n",
    "                valid_sampler = SubsetRandomSampler(val_idx)\n",
    "                dataloader_valid = DataLoader(dataset, batch_size=batch_size, sampler=valid_sampler)\n",
    "\n",
    "                modelpath=f\"{homepath}/results_LR/{rett_type_model}_{stain_type}_{model_type}/{rett_type_model}_{stain_type}_{model_type}_Fold{fold}.pkl\"\n",
    "                weight = torch.load(modelpath)\n",
    "\n",
    "                model = MyModel().to(device)\n",
    "                model.resnet.load_state_dict(weight)\n",
    "                model.avgpool = nn.AdaptiveAvgPool2d(1)\n",
    "\n",
    "                acc_valid, auc_valid = valid(model, device, dataloader_valid)\n",
    "                print(f'Accuracy: {acc_valid:.3f}, AUC: {auc_valid:.3f}')\n",
    "                history['acc_valid'].append(acc_valid)\n",
    "                history['auc_valid'].append(auc_valid)\n",
    "            print(np.average(history['acc_valid']), np.average(history['auc_valid']))\n",
    "            print(\"\")"
   ]
  },
  {
   "cell_type": "markdown",
   "metadata": {},
   "source": [
    "# 99. Save model"
   ]
  },
  {
   "cell_type": "code",
   "execution_count": 24,
   "metadata": {},
   "outputs": [],
   "source": [
    "for param in model.parameters():\n",
    "    param.requires_grad = True\n",
    "torch.save(model.module.resnet.state_dict(),\"Models/Resnet_H3K27ac.pkl\")"
   ]
  },
  {
   "cell_type": "code",
   "execution_count": 81,
   "metadata": {},
   "outputs": [],
   "source": [
    "class ResNet(nn.Module):\n",
    "        def __init__(self):\n",
    "            super(ResNet,self).__init__()\n",
    "            self.resnet = models.resnet18(weights=True)\n",
    "            self.resnet.layer3 = nn.Sequential()\n",
    "            self.resnet.layer4 = nn.Sequential()\n",
    "            self.resnet.avgpool = nn.Sequential()\n",
    "            self.resnet.fc = nn.Linear(128*75*75, 2)\n",
    "            self.resnet.load_state_dict(weight)\n",
    "        def forward(self, x):\n",
    "            x = self.resnet(x)\n",
    "            x = nn.Softmax(dim=1)(x)\n",
    "            return x\n",
    "model = ResNet()"
   ]
  },
  {
   "cell_type": "code",
   "execution_count": null,
   "metadata": {},
   "outputs": [],
   "source": []
  }
 ],
 "metadata": {
  "accelerator": "GPU",
  "colab": {
   "collapsed_sections": [],
   "name": "KIMIA_CNN.ipynb",
   "provenance": []
  },
  "kernelspec": {
   "display_name": "Python 3 (ipykernel)",
   "language": "python",
   "name": "python3"
  },
  "language_info": {
   "codemirror_mode": {
    "name": "ipython",
    "version": 3
   },
   "file_extension": ".py",
   "mimetype": "text/x-python",
   "name": "python",
   "nbconvert_exporter": "python",
   "pygments_lexer": "ipython3",
   "version": "3.10.14"
  },
  "toc": {
   "base_numbering": 1,
   "nav_menu": {},
   "number_sections": true,
   "sideBar": true,
   "skip_h1_title": false,
   "title_cell": "Table of Contents",
   "title_sidebar": "Contents",
   "toc_cell": false,
   "toc_position": {},
   "toc_section_display": true,
   "toc_window_display": false
  },
  "vscode": {
   "interpreter": {
    "hash": "e7370f93d1d0cde622a1f8e1c04877d8463912d04d973331ad4851f04de6915a"
   }
  }
 },
 "nbformat": 4,
 "nbformat_minor": 1
}
