{
 "cells": [
  {
   "cell_type": "code",
   "execution_count": 1,
   "id": "0cbd2c21",
   "metadata": {},
   "outputs": [],
   "source": [
    "import histomicstk.features as hf\n",
    "import numpy as np\n",
    "import cv2\n",
    "import pandas as pd\n",
    "from tqdm import tqdm\n",
    "from skimage.measure import label\n",
    "from matplotlib import pyplot as plt"
   ]
  },
  {
   "cell_type": "markdown",
   "id": "845ece77",
   "metadata": {},
   "source": [
    "# Extract Image features"
   ]
  },
  {
   "cell_type": "code",
   "execution_count": 121,
   "id": "b174ee96",
   "metadata": {},
   "outputs": [
    {
     "name": "stdout",
     "output_type": "stream",
     "text": [
      "img all shape: (3595, 500, 500, 3)\n",
      "mask all shape: (3595, 500, 500)\n"
     ]
    },
    {
     "name": "stderr",
     "output_type": "stream",
     "text": [
      "100%|██████████████████████████████████████████████████████| 3595/3595 [04:13<00:00, 14.20it/s]\n"
     ]
    },
    {
     "name": "stdout",
     "output_type": "stream",
     "text": [
      "🔥 Save features_all as features_RETT_H3K27ac.csv\n"
     ]
    },
    {
     "name": "stderr",
     "output_type": "stream",
     "text": [
      "100%|██████████████████████████████████████████████████████| 3595/3595 [04:23<00:00, 13.64it/s]\n"
     ]
    },
    {
     "name": "stdout",
     "output_type": "stream",
     "text": [
      "🔥 Save features_all as features_RETT_CTCF.csv\n"
     ]
    },
    {
     "name": "stderr",
     "output_type": "stream",
     "text": [
      "100%|██████████████████████████████████████████████████████| 3595/3595 [04:19<00:00, 13.85it/s]\n"
     ]
    },
    {
     "name": "stdout",
     "output_type": "stream",
     "text": [
      "🔥 Save features_all as features_RETT_Dapi.csv\n"
     ]
    }
   ],
   "source": [
    "ctrl_type = \"CTRL\"\n",
    "\n",
    "stain_type = [\"H3K27ac\", \"CTCF\", \"Dapi\"]\n",
    "\n",
    "img_all = np.load(f\"../Classification/Datasets/{ctrl_type}_All.npy\",allow_pickle=True)\n",
    "\n",
    "mask_all = []\n",
    "\n",
    "for img in img_all:\n",
    "    gray = cv2.cvtColor(img, cv2.COLOR_BGR2GRAY)\n",
    "    _, thresh = cv2.threshold(gray, 0, 1, cv2.THRESH_BINARY)\n",
    "    mask_all.append(thresh)\n",
    "mask_all = np.array(mask_all)\n",
    "print(f\"img all shape: {img_all.shape}\")\n",
    "print(f\"mask all shape: {mask_all.shape}\")\n",
    "\n",
    "# Compute and Save nuclei features\n",
    "for c in range(3):\n",
    "    # Init DataFrame to save\n",
    "    features_all = pd.DataFrame()\n",
    "    for i in tqdm(range(len(img_all))):\n",
    "        features = hf.compute_nuclei_features(im_label=mask_all[i], im_nuclei=img_all[i,:,:,c])\n",
    "        features[\"Label\"] = i\n",
    "        # Add new DataFrame to DataFrame \n",
    "        features_all = pd.concat([features_all, features], ignore_index=True)\n",
    "    # Save DataFrame as CSV\n",
    "    features_name = f'features_{ctrl_type}_{stain_type[c]}.csv'\n",
    "    features_all.to_csv(features_name, index=False)\n",
    "    print(f\"🔥 Save features_all as {features_name}\")"
   ]
  },
  {
   "cell_type": "code",
   "execution_count": 122,
   "id": "534b474a",
   "metadata": {},
   "outputs": [
    {
     "data": {
      "text/html": [
       "<div>\n",
       "<style scoped>\n",
       "    .dataframe tbody tr th:only-of-type {\n",
       "        vertical-align: middle;\n",
       "    }\n",
       "\n",
       "    .dataframe tbody tr th {\n",
       "        vertical-align: top;\n",
       "    }\n",
       "\n",
       "    .dataframe thead th {\n",
       "        text-align: right;\n",
       "    }\n",
       "</style>\n",
       "<table border=\"1\" class=\"dataframe\">\n",
       "  <thead>\n",
       "    <tr style=\"text-align: right;\">\n",
       "      <th></th>\n",
       "      <th>Label</th>\n",
       "      <th>Identifier.Xmin</th>\n",
       "      <th>Identifier.Ymin</th>\n",
       "      <th>Identifier.Xmax</th>\n",
       "      <th>Identifier.Ymax</th>\n",
       "      <th>Identifier.CentroidX</th>\n",
       "      <th>Identifier.CentroidY</th>\n",
       "      <th>Identifier.WeightedCentroidX</th>\n",
       "      <th>Identifier.WeightedCentroidY</th>\n",
       "      <th>Orientation.Orientation</th>\n",
       "      <th>...</th>\n",
       "      <th>Nucleus.Haralick.Entropy.Mean</th>\n",
       "      <th>Nucleus.Haralick.Entropy.Range</th>\n",
       "      <th>Nucleus.Haralick.DifferenceVariance.Mean</th>\n",
       "      <th>Nucleus.Haralick.DifferenceVariance.Range</th>\n",
       "      <th>Nucleus.Haralick.DifferenceEntropy.Mean</th>\n",
       "      <th>Nucleus.Haralick.DifferenceEntropy.Range</th>\n",
       "      <th>Nucleus.Haralick.IMC1.Mean</th>\n",
       "      <th>Nucleus.Haralick.IMC1.Range</th>\n",
       "      <th>Nucleus.Haralick.IMC2.Mean</th>\n",
       "      <th>Nucleus.Haralick.IMC2.Range</th>\n",
       "    </tr>\n",
       "  </thead>\n",
       "  <tbody>\n",
       "    <tr>\n",
       "      <th>0</th>\n",
       "      <td>0</td>\n",
       "      <td>125.0</td>\n",
       "      <td>146.0</td>\n",
       "      <td>373.0</td>\n",
       "      <td>357.0</td>\n",
       "      <td>245.622586</td>\n",
       "      <td>257.884118</td>\n",
       "      <td>247.178247</td>\n",
       "      <td>255.288224</td>\n",
       "      <td>1.166709</td>\n",
       "      <td>...</td>\n",
       "      <td>2.809644</td>\n",
       "      <td>0.139731</td>\n",
       "      <td>0.019593</td>\n",
       "      <td>0.001937</td>\n",
       "      <td>0.832832</td>\n",
       "      <td>0.143616</td>\n",
       "      <td>-0.555224</td>\n",
       "      <td>0.072629</td>\n",
       "      <td>0.940778</td>\n",
       "      <td>0.017575</td>\n",
       "    </tr>\n",
       "    <tr>\n",
       "      <th>1</th>\n",
       "      <td>1</td>\n",
       "      <td>125.0</td>\n",
       "      <td>103.0</td>\n",
       "      <td>375.0</td>\n",
       "      <td>400.0</td>\n",
       "      <td>268.236845</td>\n",
       "      <td>254.092781</td>\n",
       "      <td>264.079297</td>\n",
       "      <td>249.637579</td>\n",
       "      <td>-0.349760</td>\n",
       "      <td>...</td>\n",
       "      <td>2.670926</td>\n",
       "      <td>0.112949</td>\n",
       "      <td>0.022111</td>\n",
       "      <td>0.001598</td>\n",
       "      <td>0.678415</td>\n",
       "      <td>0.118844</td>\n",
       "      <td>-0.652521</td>\n",
       "      <td>0.056279</td>\n",
       "      <td>0.962433</td>\n",
       "      <td>0.008604</td>\n",
       "    </tr>\n",
       "    <tr>\n",
       "      <th>2</th>\n",
       "      <td>2</td>\n",
       "      <td>137.0</td>\n",
       "      <td>94.0</td>\n",
       "      <td>371.0</td>\n",
       "      <td>404.0</td>\n",
       "      <td>249.565630</td>\n",
       "      <td>262.414520</td>\n",
       "      <td>236.346989</td>\n",
       "      <td>242.250776</td>\n",
       "      <td>0.457796</td>\n",
       "      <td>...</td>\n",
       "      <td>2.806141</td>\n",
       "      <td>0.117552</td>\n",
       "      <td>0.022923</td>\n",
       "      <td>0.001590</td>\n",
       "      <td>0.618827</td>\n",
       "      <td>0.112612</td>\n",
       "      <td>-0.697152</td>\n",
       "      <td>0.054308</td>\n",
       "      <td>0.974880</td>\n",
       "      <td>0.006009</td>\n",
       "    </tr>\n",
       "    <tr>\n",
       "      <th>3</th>\n",
       "      <td>3</td>\n",
       "      <td>111.0</td>\n",
       "      <td>29.0</td>\n",
       "      <td>387.0</td>\n",
       "      <td>469.0</td>\n",
       "      <td>252.432525</td>\n",
       "      <td>254.166708</td>\n",
       "      <td>253.388013</td>\n",
       "      <td>270.027440</td>\n",
       "      <td>0.090247</td>\n",
       "      <td>...</td>\n",
       "      <td>2.136652</td>\n",
       "      <td>0.093209</td>\n",
       "      <td>0.024698</td>\n",
       "      <td>0.001213</td>\n",
       "      <td>0.494423</td>\n",
       "      <td>0.094607</td>\n",
       "      <td>-0.694034</td>\n",
       "      <td>0.058398</td>\n",
       "      <td>0.947308</td>\n",
       "      <td>0.010505</td>\n",
       "    </tr>\n",
       "    <tr>\n",
       "      <th>4</th>\n",
       "      <td>4</td>\n",
       "      <td>164.0</td>\n",
       "      <td>153.0</td>\n",
       "      <td>335.0</td>\n",
       "      <td>353.0</td>\n",
       "      <td>257.940629</td>\n",
       "      <td>247.358741</td>\n",
       "      <td>256.025805</td>\n",
       "      <td>246.660046</td>\n",
       "      <td>0.519190</td>\n",
       "      <td>...</td>\n",
       "      <td>0.089948</td>\n",
       "      <td>0.006808</td>\n",
       "      <td>0.029848</td>\n",
       "      <td>0.000107</td>\n",
       "      <td>0.059048</td>\n",
       "      <td>0.012376</td>\n",
       "      <td>-0.234304</td>\n",
       "      <td>0.117553</td>\n",
       "      <td>0.158788</td>\n",
       "      <td>0.039832</td>\n",
       "    </tr>\n",
       "    <tr>\n",
       "      <th>...</th>\n",
       "      <td>...</td>\n",
       "      <td>...</td>\n",
       "      <td>...</td>\n",
       "      <td>...</td>\n",
       "      <td>...</td>\n",
       "      <td>...</td>\n",
       "      <td>...</td>\n",
       "      <td>...</td>\n",
       "      <td>...</td>\n",
       "      <td>...</td>\n",
       "      <td>...</td>\n",
       "      <td>...</td>\n",
       "      <td>...</td>\n",
       "      <td>...</td>\n",
       "      <td>...</td>\n",
       "      <td>...</td>\n",
       "      <td>...</td>\n",
       "      <td>...</td>\n",
       "      <td>...</td>\n",
       "      <td>...</td>\n",
       "      <td>...</td>\n",
       "    </tr>\n",
       "    <tr>\n",
       "      <th>3590</th>\n",
       "      <td>3590</td>\n",
       "      <td>112.0</td>\n",
       "      <td>160.0</td>\n",
       "      <td>379.0</td>\n",
       "      <td>342.0</td>\n",
       "      <td>247.769319</td>\n",
       "      <td>253.419707</td>\n",
       "      <td>253.007110</td>\n",
       "      <td>248.076601</td>\n",
       "      <td>-1.301819</td>\n",
       "      <td>...</td>\n",
       "      <td>2.551382</td>\n",
       "      <td>0.130398</td>\n",
       "      <td>0.022018</td>\n",
       "      <td>0.001721</td>\n",
       "      <td>0.695315</td>\n",
       "      <td>0.137511</td>\n",
       "      <td>-0.625242</td>\n",
       "      <td>0.071017</td>\n",
       "      <td>0.949512</td>\n",
       "      <td>0.013657</td>\n",
       "    </tr>\n",
       "    <tr>\n",
       "      <th>3591</th>\n",
       "      <td>3591</td>\n",
       "      <td>113.0</td>\n",
       "      <td>84.0</td>\n",
       "      <td>375.0</td>\n",
       "      <td>415.0</td>\n",
       "      <td>253.092716</td>\n",
       "      <td>233.349851</td>\n",
       "      <td>256.886764</td>\n",
       "      <td>244.038690</td>\n",
       "      <td>0.526957</td>\n",
       "      <td>...</td>\n",
       "      <td>2.439424</td>\n",
       "      <td>0.105371</td>\n",
       "      <td>0.024344</td>\n",
       "      <td>0.001342</td>\n",
       "      <td>0.533519</td>\n",
       "      <td>0.109484</td>\n",
       "      <td>-0.720428</td>\n",
       "      <td>0.054501</td>\n",
       "      <td>0.967660</td>\n",
       "      <td>0.006906</td>\n",
       "    </tr>\n",
       "    <tr>\n",
       "      <th>3592</th>\n",
       "      <td>3592</td>\n",
       "      <td>162.0</td>\n",
       "      <td>164.0</td>\n",
       "      <td>334.0</td>\n",
       "      <td>354.0</td>\n",
       "      <td>241.055614</td>\n",
       "      <td>255.966783</td>\n",
       "      <td>242.675480</td>\n",
       "      <td>254.244803</td>\n",
       "      <td>-0.756323</td>\n",
       "      <td>...</td>\n",
       "      <td>2.975043</td>\n",
       "      <td>0.148701</td>\n",
       "      <td>0.017819</td>\n",
       "      <td>0.001826</td>\n",
       "      <td>0.963888</td>\n",
       "      <td>0.163080</td>\n",
       "      <td>-0.519228</td>\n",
       "      <td>0.073118</td>\n",
       "      <td>0.935478</td>\n",
       "      <td>0.019810</td>\n",
       "    </tr>\n",
       "    <tr>\n",
       "      <th>3593</th>\n",
       "      <td>3593</td>\n",
       "      <td>170.0</td>\n",
       "      <td>181.0</td>\n",
       "      <td>365.0</td>\n",
       "      <td>317.0</td>\n",
       "      <td>270.599254</td>\n",
       "      <td>250.175480</td>\n",
       "      <td>268.016704</td>\n",
       "      <td>250.537262</td>\n",
       "      <td>-1.343792</td>\n",
       "      <td>...</td>\n",
       "      <td>3.451721</td>\n",
       "      <td>0.185160</td>\n",
       "      <td>0.017399</td>\n",
       "      <td>0.002022</td>\n",
       "      <td>1.004060</td>\n",
       "      <td>0.185215</td>\n",
       "      <td>-0.548142</td>\n",
       "      <td>0.076006</td>\n",
       "      <td>0.962450</td>\n",
       "      <td>0.013441</td>\n",
       "    </tr>\n",
       "    <tr>\n",
       "      <th>3594</th>\n",
       "      <td>3594</td>\n",
       "      <td>144.0</td>\n",
       "      <td>92.0</td>\n",
       "      <td>354.0</td>\n",
       "      <td>408.0</td>\n",
       "      <td>245.554786</td>\n",
       "      <td>248.790806</td>\n",
       "      <td>250.928747</td>\n",
       "      <td>244.245964</td>\n",
       "      <td>-0.335884</td>\n",
       "      <td>...</td>\n",
       "      <td>2.405388</td>\n",
       "      <td>0.119080</td>\n",
       "      <td>0.023170</td>\n",
       "      <td>0.001616</td>\n",
       "      <td>0.615408</td>\n",
       "      <td>0.127745</td>\n",
       "      <td>-0.664692</td>\n",
       "      <td>0.066053</td>\n",
       "      <td>0.954208</td>\n",
       "      <td>0.011222</td>\n",
       "    </tr>\n",
       "  </tbody>\n",
       "</table>\n",
       "<p>3595 rows × 88 columns</p>\n",
       "</div>"
      ],
      "text/plain": [
       "      Label  Identifier.Xmin  Identifier.Ymin  Identifier.Xmax  \\\n",
       "0         0            125.0            146.0            373.0   \n",
       "1         1            125.0            103.0            375.0   \n",
       "2         2            137.0             94.0            371.0   \n",
       "3         3            111.0             29.0            387.0   \n",
       "4         4            164.0            153.0            335.0   \n",
       "...     ...              ...              ...              ...   \n",
       "3590   3590            112.0            160.0            379.0   \n",
       "3591   3591            113.0             84.0            375.0   \n",
       "3592   3592            162.0            164.0            334.0   \n",
       "3593   3593            170.0            181.0            365.0   \n",
       "3594   3594            144.0             92.0            354.0   \n",
       "\n",
       "      Identifier.Ymax  Identifier.CentroidX  Identifier.CentroidY  \\\n",
       "0               357.0            245.622586            257.884118   \n",
       "1               400.0            268.236845            254.092781   \n",
       "2               404.0            249.565630            262.414520   \n",
       "3               469.0            252.432525            254.166708   \n",
       "4               353.0            257.940629            247.358741   \n",
       "...               ...                   ...                   ...   \n",
       "3590            342.0            247.769319            253.419707   \n",
       "3591            415.0            253.092716            233.349851   \n",
       "3592            354.0            241.055614            255.966783   \n",
       "3593            317.0            270.599254            250.175480   \n",
       "3594            408.0            245.554786            248.790806   \n",
       "\n",
       "      Identifier.WeightedCentroidX  Identifier.WeightedCentroidY  \\\n",
       "0                       247.178247                    255.288224   \n",
       "1                       264.079297                    249.637579   \n",
       "2                       236.346989                    242.250776   \n",
       "3                       253.388013                    270.027440   \n",
       "4                       256.025805                    246.660046   \n",
       "...                            ...                           ...   \n",
       "3590                    253.007110                    248.076601   \n",
       "3591                    256.886764                    244.038690   \n",
       "3592                    242.675480                    254.244803   \n",
       "3593                    268.016704                    250.537262   \n",
       "3594                    250.928747                    244.245964   \n",
       "\n",
       "      Orientation.Orientation  ...  Nucleus.Haralick.Entropy.Mean  \\\n",
       "0                    1.166709  ...                       2.809644   \n",
       "1                   -0.349760  ...                       2.670926   \n",
       "2                    0.457796  ...                       2.806141   \n",
       "3                    0.090247  ...                       2.136652   \n",
       "4                    0.519190  ...                       0.089948   \n",
       "...                       ...  ...                            ...   \n",
       "3590                -1.301819  ...                       2.551382   \n",
       "3591                 0.526957  ...                       2.439424   \n",
       "3592                -0.756323  ...                       2.975043   \n",
       "3593                -1.343792  ...                       3.451721   \n",
       "3594                -0.335884  ...                       2.405388   \n",
       "\n",
       "      Nucleus.Haralick.Entropy.Range  \\\n",
       "0                           0.139731   \n",
       "1                           0.112949   \n",
       "2                           0.117552   \n",
       "3                           0.093209   \n",
       "4                           0.006808   \n",
       "...                              ...   \n",
       "3590                        0.130398   \n",
       "3591                        0.105371   \n",
       "3592                        0.148701   \n",
       "3593                        0.185160   \n",
       "3594                        0.119080   \n",
       "\n",
       "      Nucleus.Haralick.DifferenceVariance.Mean  \\\n",
       "0                                     0.019593   \n",
       "1                                     0.022111   \n",
       "2                                     0.022923   \n",
       "3                                     0.024698   \n",
       "4                                     0.029848   \n",
       "...                                        ...   \n",
       "3590                                  0.022018   \n",
       "3591                                  0.024344   \n",
       "3592                                  0.017819   \n",
       "3593                                  0.017399   \n",
       "3594                                  0.023170   \n",
       "\n",
       "      Nucleus.Haralick.DifferenceVariance.Range  \\\n",
       "0                                      0.001937   \n",
       "1                                      0.001598   \n",
       "2                                      0.001590   \n",
       "3                                      0.001213   \n",
       "4                                      0.000107   \n",
       "...                                         ...   \n",
       "3590                                   0.001721   \n",
       "3591                                   0.001342   \n",
       "3592                                   0.001826   \n",
       "3593                                   0.002022   \n",
       "3594                                   0.001616   \n",
       "\n",
       "      Nucleus.Haralick.DifferenceEntropy.Mean  \\\n",
       "0                                    0.832832   \n",
       "1                                    0.678415   \n",
       "2                                    0.618827   \n",
       "3                                    0.494423   \n",
       "4                                    0.059048   \n",
       "...                                       ...   \n",
       "3590                                 0.695315   \n",
       "3591                                 0.533519   \n",
       "3592                                 0.963888   \n",
       "3593                                 1.004060   \n",
       "3594                                 0.615408   \n",
       "\n",
       "      Nucleus.Haralick.DifferenceEntropy.Range  Nucleus.Haralick.IMC1.Mean  \\\n",
       "0                                     0.143616                   -0.555224   \n",
       "1                                     0.118844                   -0.652521   \n",
       "2                                     0.112612                   -0.697152   \n",
       "3                                     0.094607                   -0.694034   \n",
       "4                                     0.012376                   -0.234304   \n",
       "...                                        ...                         ...   \n",
       "3590                                  0.137511                   -0.625242   \n",
       "3591                                  0.109484                   -0.720428   \n",
       "3592                                  0.163080                   -0.519228   \n",
       "3593                                  0.185215                   -0.548142   \n",
       "3594                                  0.127745                   -0.664692   \n",
       "\n",
       "      Nucleus.Haralick.IMC1.Range  Nucleus.Haralick.IMC2.Mean  \\\n",
       "0                        0.072629                    0.940778   \n",
       "1                        0.056279                    0.962433   \n",
       "2                        0.054308                    0.974880   \n",
       "3                        0.058398                    0.947308   \n",
       "4                        0.117553                    0.158788   \n",
       "...                           ...                         ...   \n",
       "3590                     0.071017                    0.949512   \n",
       "3591                     0.054501                    0.967660   \n",
       "3592                     0.073118                    0.935478   \n",
       "3593                     0.076006                    0.962450   \n",
       "3594                     0.066053                    0.954208   \n",
       "\n",
       "      Nucleus.Haralick.IMC2.Range  \n",
       "0                        0.017575  \n",
       "1                        0.008604  \n",
       "2                        0.006009  \n",
       "3                        0.010505  \n",
       "4                        0.039832  \n",
       "...                           ...  \n",
       "3590                     0.013657  \n",
       "3591                     0.006906  \n",
       "3592                     0.019810  \n",
       "3593                     0.013441  \n",
       "3594                     0.011222  \n",
       "\n",
       "[3595 rows x 88 columns]"
      ]
     },
     "execution_count": 122,
     "metadata": {},
     "output_type": "execute_result"
    }
   ],
   "source": [
    "features_all"
   ]
  },
  {
   "cell_type": "code",
   "execution_count": 132,
   "id": "da58252f",
   "metadata": {},
   "outputs": [
    {
     "name": "stdout",
     "output_type": "stream",
     "text": [
      "00 Label\n",
      "01 Identifier.Xmin\n",
      "02 Identifier.Ymin\n",
      "03 Identifier.Xmax\n",
      "04 Identifier.Ymax\n",
      "05 Identifier.CentroidX\n",
      "06 Identifier.CentroidY\n",
      "07 Identifier.WeightedCentroidX\n",
      "08 Identifier.WeightedCentroidY\n",
      "09 Orientation.Orientation\n",
      "10 Size.Area\n",
      "11 Size.ConvexHullArea\n",
      "12 Size.MajorAxisLength\n",
      "13 Size.MinorAxisLength\n",
      "14 Size.Perimeter\n",
      "15 Shape.Circularity\n",
      "16 Shape.Eccentricity\n",
      "17 Shape.EquivalentDiameter\n",
      "18 Shape.Extent\n",
      "19 Shape.FractalDimension\n",
      "20 Shape.MinorMajorAxisRatio\n",
      "21 Shape.Solidity\n",
      "22 Shape.HuMoments1\n",
      "23 Shape.HuMoments2\n",
      "24 Shape.HuMoments3\n",
      "25 Shape.HuMoments4\n",
      "26 Shape.HuMoments5\n",
      "27 Shape.HuMoments6\n",
      "28 Shape.HuMoments7\n",
      "29 Shape.WeightedHuMoments1\n",
      "30 Shape.WeightedHuMoments2\n",
      "31 Shape.WeightedHuMoments3\n",
      "32 Shape.WeightedHuMoments4\n",
      "33 Shape.WeightedHuMoments5\n",
      "34 Shape.WeightedHuMoments6\n",
      "35 Shape.WeightedHuMoments7\n",
      "36 Shape.FSD1\n",
      "37 Shape.FSD2\n",
      "38 Shape.FSD3\n",
      "39 Shape.FSD4\n",
      "40 Shape.FSD5\n",
      "41 Shape.FSD6\n",
      "42 Nucleus.Intensity.Min\n",
      "43 Nucleus.Intensity.Max\n",
      "44 Nucleus.Intensity.Mean\n",
      "45 Nucleus.Intensity.Median\n",
      "46 Nucleus.Intensity.MeanMedianDiff\n",
      "47 Nucleus.Intensity.Std\n",
      "48 Nucleus.Intensity.IQR\n",
      "49 Nucleus.Intensity.MAD\n",
      "50 Nucleus.Intensity.Skewness\n",
      "51 Nucleus.Intensity.Kurtosis\n",
      "52 Nucleus.Intensity.HistEnergy\n",
      "53 Nucleus.Intensity.HistEntropy\n",
      "54 Nucleus.Gradient.Mag.Mean\n",
      "55 Nucleus.Gradient.Mag.Std\n",
      "56 Nucleus.Gradient.Mag.Skewness\n",
      "57 Nucleus.Gradient.Mag.Kurtosis\n",
      "58 Nucleus.Gradient.Mag.HistEntropy\n",
      "59 Nucleus.Gradient.Mag.HistEnergy\n",
      "60 Nucleus.Gradient.Canny.Sum\n",
      "61 Nucleus.Gradient.Canny.Mean\n",
      "62 Nucleus.Haralick.ASM.Mean\n",
      "63 Nucleus.Haralick.ASM.Range\n",
      "64 Nucleus.Haralick.Contrast.Mean\n",
      "65 Nucleus.Haralick.Contrast.Range\n",
      "66 Nucleus.Haralick.Correlation.Mean\n",
      "67 Nucleus.Haralick.Correlation.Range\n",
      "68 Nucleus.Haralick.SumOfSquares.Mean\n",
      "69 Nucleus.Haralick.SumOfSquares.Range\n",
      "70 Nucleus.Haralick.IDM.Mean\n",
      "71 Nucleus.Haralick.IDM.Range\n",
      "72 Nucleus.Haralick.SumAverage.Mean\n",
      "73 Nucleus.Haralick.SumAverage.Range\n",
      "74 Nucleus.Haralick.SumVariance.Mean\n",
      "75 Nucleus.Haralick.SumVariance.Range\n",
      "76 Nucleus.Haralick.SumEntropy.Mean\n",
      "77 Nucleus.Haralick.SumEntropy.Range\n",
      "78 Nucleus.Haralick.Entropy.Mean\n",
      "79 Nucleus.Haralick.Entropy.Range\n",
      "80 Nucleus.Haralick.DifferenceVariance.Mean\n",
      "81 Nucleus.Haralick.DifferenceVariance.Range\n",
      "82 Nucleus.Haralick.DifferenceEntropy.Mean\n",
      "83 Nucleus.Haralick.DifferenceEntropy.Range\n",
      "84 Nucleus.Haralick.IMC1.Mean\n",
      "85 Nucleus.Haralick.IMC1.Range\n",
      "86 Nucleus.Haralick.IMC2.Mean\n",
      "87 Nucleus.Haralick.IMC2.Range\n"
     ]
    }
   ],
   "source": [
    "features = features_all.columns.tolist()\n",
    "for i in range(len(features)):\n",
    "    print(f\"{i:02} {features[i]}\")"
   ]
  },
  {
   "cell_type": "markdown",
   "id": "ba66b431",
   "metadata": {},
   "source": [
    "# Extract CAM features"
   ]
  },
  {
   "cell_type": "code",
   "execution_count": 30,
   "id": "e737790d",
   "metadata": {
    "scrolled": false
   },
   "outputs": [
    {
     "name": "stdout",
     "output_type": "stream",
     "text": [
      "🚀 RETT_All_Resnet10_noavg_GradCAM\n",
      "img all shape: (1517, 500, 500, 3)\n",
      "cam all shape: (3554, 500, 500)\n",
      "mask all shape: (1517, 500, 500)\n"
     ]
    },
    {
     "name": "stderr",
     "output_type": "stream",
     "text": [
      "100%|█████████████████████████████████████████████████| 3554/3554 [00:00<00:00, 3553410.35it/s]"
     ]
    },
    {
     "name": "stdout",
     "output_type": "stream",
     "text": [
      "🔥 Save features_all as features_RETT_All_correct.csv\n",
      "🚀 RETT_H3K27ac_Resnet10_noavg_GradCAM\n"
     ]
    },
    {
     "name": "stderr",
     "output_type": "stream",
     "text": [
      "\n"
     ]
    },
    {
     "name": "stdout",
     "output_type": "stream",
     "text": [
      "img all shape: (1517, 500, 500, 3)\n",
      "cam all shape: (3486, 500, 500)\n",
      "mask all shape: (1517, 500, 500)\n"
     ]
    },
    {
     "name": "stderr",
     "output_type": "stream",
     "text": [
      "100%|█████████████████████████████████████████████████| 3486/3486 [00:00<00:00, 2089658.96it/s]"
     ]
    },
    {
     "name": "stdout",
     "output_type": "stream",
     "text": [
      "🔥 Save features_all as features_RETT_H3K27ac_correct.csv\n",
      "🚀 RETT_CTCF_Resnet10_noavg_GradCAM\n"
     ]
    },
    {
     "name": "stderr",
     "output_type": "stream",
     "text": [
      "\n"
     ]
    },
    {
     "name": "stdout",
     "output_type": "stream",
     "text": [
      "img all shape: (1517, 500, 500, 3)\n",
      "cam all shape: (3518, 500, 500)\n",
      "mask all shape: (1517, 500, 500)\n"
     ]
    },
    {
     "name": "stderr",
     "output_type": "stream",
     "text": [
      "100%|█████████████████████████████████████████████████| 3518/3518 [00:00<00:00, 2147825.54it/s]"
     ]
    },
    {
     "name": "stdout",
     "output_type": "stream",
     "text": [
      "🔥 Save features_all as features_RETT_CTCF_correct.csv\n",
      "🚀 RETT_Dapi_Resnet10_noavg_GradCAM\n"
     ]
    },
    {
     "name": "stderr",
     "output_type": "stream",
     "text": [
      "\n"
     ]
    },
    {
     "name": "stdout",
     "output_type": "stream",
     "text": [
      "img all shape: (1517, 500, 500, 3)\n",
      "cam all shape: (3484, 500, 500)\n",
      "mask all shape: (1517, 500, 500)\n"
     ]
    },
    {
     "name": "stderr",
     "output_type": "stream",
     "text": [
      "100%|█████████████████████████████████████████████████| 3484/3484 [00:00<00:00, 2155939.09it/s]"
     ]
    },
    {
     "name": "stdout",
     "output_type": "stream",
     "text": [
      "🔥 Save features_all as features_RETT_Dapi_correct.csv\n",
      "🚀 CTRL_All_Resnet10_noavg_GradCAM\n"
     ]
    },
    {
     "name": "stderr",
     "output_type": "stream",
     "text": [
      "\n"
     ]
    },
    {
     "name": "stdout",
     "output_type": "stream",
     "text": [
      "img all shape: (1517, 500, 500, 3)\n",
      "cam all shape: (1701, 500, 500)\n",
      "mask all shape: (1517, 500, 500)\n"
     ]
    },
    {
     "name": "stderr",
     "output_type": "stream",
     "text": [
      "100%|█████████████████████████████████████████████████| 1701/1701 [00:00<00:00, 2063190.02it/s]"
     ]
    },
    {
     "name": "stdout",
     "output_type": "stream",
     "text": [
      "🔥 Save features_all as features_CTRL_All_correct.csv\n",
      "🚀 CTRL_H3K27ac_Resnet10_noavg_GradCAM\n"
     ]
    },
    {
     "name": "stderr",
     "output_type": "stream",
     "text": [
      "\n"
     ]
    },
    {
     "name": "stdout",
     "output_type": "stream",
     "text": [
      "img all shape: (1517, 500, 500, 3)\n",
      "cam all shape: (1567, 500, 500)\n",
      "mask all shape: (1517, 500, 500)\n"
     ]
    },
    {
     "name": "stderr",
     "output_type": "stream",
     "text": [
      "100%|█████████████████████████████████████████████████| 1567/1567 [00:00<00:00, 2048776.30it/s]"
     ]
    },
    {
     "name": "stdout",
     "output_type": "stream",
     "text": [
      "🔥 Save features_all as features_CTRL_H3K27ac_correct.csv\n",
      "🚀 CTRL_CTCF_Resnet10_noavg_GradCAM\n"
     ]
    },
    {
     "name": "stderr",
     "output_type": "stream",
     "text": [
      "\n"
     ]
    },
    {
     "name": "stdout",
     "output_type": "stream",
     "text": [
      "img all shape: (1517, 500, 500, 3)\n",
      "cam all shape: (1592, 500, 500)\n",
      "mask all shape: (1517, 500, 500)\n"
     ]
    },
    {
     "name": "stderr",
     "output_type": "stream",
     "text": [
      "100%|█████████████████████████████████████████████████| 1592/1592 [00:00<00:00, 3505161.14it/s]"
     ]
    },
    {
     "name": "stdout",
     "output_type": "stream",
     "text": [
      "🔥 Save features_all as features_CTRL_CTCF_correct.csv\n",
      "🚀 CTRL_Dapi_Resnet10_noavg_GradCAM\n"
     ]
    },
    {
     "name": "stderr",
     "output_type": "stream",
     "text": [
      "\n"
     ]
    },
    {
     "name": "stdout",
     "output_type": "stream",
     "text": [
      "img all shape: (1517, 500, 500, 3)\n",
      "cam all shape: (1517, 500, 500)\n",
      "mask all shape: (1517, 500, 500)\n"
     ]
    },
    {
     "name": "stderr",
     "output_type": "stream",
     "text": [
      "100%|█████████████████████████████████████████████████| 1517/1517 [00:00<00:00, 3115944.74it/s]"
     ]
    },
    {
     "name": "stdout",
     "output_type": "stream",
     "text": [
      "🔥 Save features_all as features_CTRL_Dapi_correct.csv\n",
      "🚀 RETT_All_Resnet10_noavg_ScoreCAM\n"
     ]
    },
    {
     "name": "stderr",
     "output_type": "stream",
     "text": [
      "\n"
     ]
    },
    {
     "name": "stdout",
     "output_type": "stream",
     "text": [
      "img all shape: (1517, 500, 500, 3)\n",
      "cam all shape: (3554, 500, 500)\n",
      "mask all shape: (1517, 500, 500)\n"
     ]
    },
    {
     "name": "stderr",
     "output_type": "stream",
     "text": [
      "100%|█████████████████████████████████████████████████| 3554/3554 [00:00<00:00, 3578146.04it/s]"
     ]
    },
    {
     "name": "stdout",
     "output_type": "stream",
     "text": [
      "🔥 Save features_all as features_RETT_All_correct.csv\n",
      "🚀 RETT_H3K27ac_Resnet10_noavg_ScoreCAM\n"
     ]
    },
    {
     "name": "stderr",
     "output_type": "stream",
     "text": [
      "\n"
     ]
    },
    {
     "name": "stdout",
     "output_type": "stream",
     "text": [
      "img all shape: (1517, 500, 500, 3)\n",
      "cam all shape: (3486, 500, 500)\n",
      "mask all shape: (1517, 500, 500)\n"
     ]
    },
    {
     "name": "stderr",
     "output_type": "stream",
     "text": [
      "100%|█████████████████████████████████████████████████| 3486/3486 [00:00<00:00, 3666334.94it/s]"
     ]
    },
    {
     "name": "stdout",
     "output_type": "stream",
     "text": [
      "🔥 Save features_all as features_RETT_H3K27ac_correct.csv\n",
      "🚀 RETT_CTCF_Resnet10_noavg_ScoreCAM\n"
     ]
    },
    {
     "name": "stderr",
     "output_type": "stream",
     "text": [
      "\n"
     ]
    },
    {
     "name": "stdout",
     "output_type": "stream",
     "text": [
      "img all shape: (1517, 500, 500, 3)\n",
      "cam all shape: (3518, 500, 500)\n",
      "mask all shape: (1517, 500, 500)\n"
     ]
    },
    {
     "name": "stderr",
     "output_type": "stream",
     "text": [
      "100%|█████████████████████████████████████████████████| 3518/3518 [00:00<00:00, 3552988.56it/s]"
     ]
    },
    {
     "name": "stdout",
     "output_type": "stream",
     "text": [
      "🔥 Save features_all as features_RETT_CTCF_correct.csv\n",
      "🚀 RETT_Dapi_Resnet10_noavg_ScoreCAM\n"
     ]
    },
    {
     "name": "stderr",
     "output_type": "stream",
     "text": [
      "\n"
     ]
    },
    {
     "name": "stdout",
     "output_type": "stream",
     "text": [
      "img all shape: (1517, 500, 500, 3)\n",
      "cam all shape: (3484, 500, 500)\n",
      "mask all shape: (1517, 500, 500)\n"
     ]
    },
    {
     "name": "stderr",
     "output_type": "stream",
     "text": [
      "100%|█████████████████████████████████████████████████| 3484/3484 [00:00<00:00, 3533112.94it/s]"
     ]
    },
    {
     "name": "stdout",
     "output_type": "stream",
     "text": [
      "🔥 Save features_all as features_RETT_Dapi_correct.csv\n",
      "🚀 CTRL_All_Resnet10_noavg_ScoreCAM\n"
     ]
    },
    {
     "name": "stderr",
     "output_type": "stream",
     "text": [
      "\n"
     ]
    },
    {
     "name": "stdout",
     "output_type": "stream",
     "text": [
      "img all shape: (1517, 500, 500, 3)\n",
      "cam all shape: (1701, 500, 500)\n",
      "mask all shape: (1517, 500, 500)\n"
     ]
    },
    {
     "name": "stderr",
     "output_type": "stream",
     "text": [
      "100%|█████████████████████████████████████████████████| 1701/1701 [00:00<00:00, 3368513.27it/s]"
     ]
    },
    {
     "name": "stdout",
     "output_type": "stream",
     "text": [
      "🔥 Save features_all as features_CTRL_All_correct.csv\n",
      "🚀 CTRL_H3K27ac_Resnet10_noavg_ScoreCAM\n"
     ]
    },
    {
     "name": "stderr",
     "output_type": "stream",
     "text": [
      "\n"
     ]
    },
    {
     "name": "stdout",
     "output_type": "stream",
     "text": [
      "img all shape: (1517, 500, 500, 3)\n",
      "cam all shape: (1567, 500, 500)\n",
      "mask all shape: (1517, 500, 500)\n"
     ]
    },
    {
     "name": "stderr",
     "output_type": "stream",
     "text": [
      "100%|█████████████████████████████████████████████████| 1567/1567 [00:00<00:00, 3492281.81it/s]"
     ]
    },
    {
     "name": "stdout",
     "output_type": "stream",
     "text": [
      "🔥 Save features_all as features_CTRL_H3K27ac_correct.csv\n",
      "🚀 CTRL_CTCF_Resnet10_noavg_ScoreCAM\n"
     ]
    },
    {
     "name": "stderr",
     "output_type": "stream",
     "text": [
      "\n"
     ]
    },
    {
     "name": "stdout",
     "output_type": "stream",
     "text": [
      "img all shape: (1517, 500, 500, 3)\n",
      "cam all shape: (1592, 500, 500)\n",
      "mask all shape: (1517, 500, 500)\n"
     ]
    },
    {
     "name": "stderr",
     "output_type": "stream",
     "text": [
      "100%|█████████████████████████████████████████████████| 1592/1592 [00:00<00:00, 3529245.23it/s]"
     ]
    },
    {
     "name": "stdout",
     "output_type": "stream",
     "text": [
      "🔥 Save features_all as features_CTRL_CTCF_correct.csv\n",
      "🚀 CTRL_Dapi_Resnet10_noavg_ScoreCAM\n"
     ]
    },
    {
     "name": "stderr",
     "output_type": "stream",
     "text": [
      "\n"
     ]
    },
    {
     "name": "stdout",
     "output_type": "stream",
     "text": [
      "img all shape: (1517, 500, 500, 3)\n",
      "cam all shape: (1517, 500, 500)\n",
      "mask all shape: (1517, 500, 500)\n"
     ]
    },
    {
     "name": "stderr",
     "output_type": "stream",
     "text": [
      "100%|█████████████████████████████████████████████████| 1517/1517 [00:00<00:00, 3313937.07it/s]"
     ]
    },
    {
     "name": "stdout",
     "output_type": "stream",
     "text": [
      "🔥 Save features_all as features_CTRL_Dapi_correct.csv\n"
     ]
    },
    {
     "name": "stderr",
     "output_type": "stream",
     "text": [
      "\n"
     ]
    }
   ],
   "source": [
    "cam_type = \"ScoreCAM\"\n",
    "ctrl_type = \"CTRL\"\n",
    "stain_type = \"Dapi\"\n",
    "\n",
    "for cam_type in [\"GradCAM\", \"ScoreCAM\"]:\n",
    "    for ctrl_type in [\"RETT\", \"CTRL\"]:\n",
    "        for stain_type in [\"All\", \"H3K27ac\", \"CTCF\", \"Dapi\"]:\n",
    "            loadname = f\"{ctrl_type}_{stain_type}_Resnet10_noavg_{cam_type}\"\n",
    "            print(f\"🚀 {loadname}\")\n",
    "            img_all = np.load(f\"../Classification/results_cam/{loadname}/{loadname}_img.npy\",allow_pickle=True)\n",
    "            cam_all = np.load(f\"../Classification/results_cam/{loadname}/{loadname}_cam.npy\",allow_pickle=True)\n",
    "            print(f\"img all shape: {img_all.shape}\")\n",
    "            print(f\"cam all shape: {cam_all.shape}\")\n",
    "\n",
    "            mask_all = []\n",
    "            for img in img_all:\n",
    "                gray = cv2.cvtColor(img, cv2.COLOR_BGR2GRAY)\n",
    "                _, thresh = cv2.threshold(gray, 0, 1, cv2.THRESH_BINARY)\n",
    "                mask_all.append(thresh)\n",
    "            mask_all = np.array(mask_all).astype(np.int32)\n",
    "            print(f\"mask all shape: {mask_all.shape}\")\n",
    "\n",
    "            # Init DataFrame to save\n",
    "            features_all = pd.DataFrame()\n",
    "            # Compute and Save nuclei features\n",
    "            for i in tqdm(range(len(cam_all))):\n",
    "                features = hf.compute_nuclei_features(im_label=mask_all[i], im_nuclei=cam_all[i,:,:])\n",
    "                features[\"Label\"] = i\n",
    "                # Add new DataFrame to DataFrame \n",
    "                features_all = pd.concat([features_all, features], ignore_index=True)\n",
    "            # Save DataFrame as CSV\n",
    "            features_name = f'features_{loadname}.csv'\n",
    "            features_all.to_csv(features_name, index=False)\n",
    "            print(f\"🔥 Save features_all as {features_name}\")"
   ]
  },
  {
   "cell_type": "markdown",
   "id": "ae1fcf1d",
   "metadata": {},
   "source": [
    "# Extract Image only correct features"
   ]
  },
  {
   "cell_type": "code",
   "execution_count": 28,
   "id": "26dc6484",
   "metadata": {
    "scrolled": false
   },
   "outputs": [
    {
     "name": "stdout",
     "output_type": "stream",
     "text": [
      "🚀 RETT_H3K27ac_Resnet10_noavg_GradCAM\n",
      "img all shape: (3486, 500, 500, 3)\n",
      "mask all shape: (3486, 500, 500)\n"
     ]
    },
    {
     "name": "stderr",
     "output_type": "stream",
     "text": [
      "100%|█████████████████████████████████████████████████| 3486/3486 [00:00<00:00, 3413808.95it/s]"
     ]
    },
    {
     "name": "stdout",
     "output_type": "stream",
     "text": [
      "🔥 Save features_all as features_RETT_H3K27ac_correct.csv\n",
      "🚀 RETT_CTCF_Resnet10_noavg_GradCAM\n"
     ]
    },
    {
     "name": "stderr",
     "output_type": "stream",
     "text": [
      "\n"
     ]
    },
    {
     "name": "stdout",
     "output_type": "stream",
     "text": [
      "img all shape: (3518, 500, 500, 3)\n",
      "mask all shape: (3518, 500, 500)\n"
     ]
    },
    {
     "name": "stderr",
     "output_type": "stream",
     "text": [
      "100%|█████████████████████████████████████████████████| 3518/3518 [00:00<00:00, 3483371.45it/s]"
     ]
    },
    {
     "name": "stdout",
     "output_type": "stream",
     "text": [
      "🔥 Save features_all as features_RETT_CTCF_correct.csv\n",
      "🚀 RETT_Dapi_Resnet10_noavg_GradCAM\n"
     ]
    },
    {
     "name": "stderr",
     "output_type": "stream",
     "text": [
      "\n"
     ]
    },
    {
     "name": "stdout",
     "output_type": "stream",
     "text": [
      "img all shape: (3484, 500, 500, 3)\n",
      "mask all shape: (3484, 500, 500)\n"
     ]
    },
    {
     "name": "stderr",
     "output_type": "stream",
     "text": [
      "100%|█████████████████████████████████████████████████| 3484/3484 [00:00<00:00, 3573723.44it/s]"
     ]
    },
    {
     "name": "stdout",
     "output_type": "stream",
     "text": [
      "🔥 Save features_all as features_RETT_Dapi_correct.csv\n",
      "🚀 CTRL_H3K27ac_Resnet10_noavg_GradCAM\n"
     ]
    },
    {
     "name": "stderr",
     "output_type": "stream",
     "text": [
      "\n"
     ]
    },
    {
     "name": "stdout",
     "output_type": "stream",
     "text": [
      "img all shape: (1567, 500, 500, 3)\n",
      "mask all shape: (1567, 500, 500)\n"
     ]
    },
    {
     "name": "stderr",
     "output_type": "stream",
     "text": [
      "100%|█████████████████████████████████████████████████| 1567/1567 [00:00<00:00, 3439285.38it/s]"
     ]
    },
    {
     "name": "stdout",
     "output_type": "stream",
     "text": [
      "🔥 Save features_all as features_CTRL_H3K27ac_correct.csv\n",
      "🚀 CTRL_CTCF_Resnet10_noavg_GradCAM\n"
     ]
    },
    {
     "name": "stderr",
     "output_type": "stream",
     "text": [
      "\n"
     ]
    },
    {
     "name": "stdout",
     "output_type": "stream",
     "text": [
      "img all shape: (1592, 500, 500, 3)\n",
      "mask all shape: (1592, 500, 500)\n"
     ]
    },
    {
     "name": "stderr",
     "output_type": "stream",
     "text": [
      "100%|█████████████████████████████████████████████████| 1592/1592 [00:00<00:00, 3434841.55it/s]"
     ]
    },
    {
     "name": "stdout",
     "output_type": "stream",
     "text": [
      "🔥 Save features_all as features_CTRL_CTCF_correct.csv\n",
      "🚀 CTRL_Dapi_Resnet10_noavg_GradCAM\n"
     ]
    },
    {
     "name": "stderr",
     "output_type": "stream",
     "text": [
      "\n"
     ]
    },
    {
     "name": "stdout",
     "output_type": "stream",
     "text": [
      "img all shape: (1517, 500, 500, 3)\n",
      "mask all shape: (1517, 500, 500)\n"
     ]
    },
    {
     "name": "stderr",
     "output_type": "stream",
     "text": [
      "100%|█████████████████████████████████████████████████| 1517/1517 [00:00<00:00, 3422678.41it/s]"
     ]
    },
    {
     "name": "stdout",
     "output_type": "stream",
     "text": [
      "🔥 Save features_all as features_CTRL_Dapi_correct.csv\n"
     ]
    },
    {
     "name": "stderr",
     "output_type": "stream",
     "text": [
      "\n"
     ]
    }
   ],
   "source": [
    "cam_type = \"ScoreCAM\"\n",
    "ctrl_type = \"CTRL\"\n",
    "stain_type = \"Dapi\"\n",
    "\n",
    "for cam_type in [\"GradCAM\"]:\n",
    "    for ctrl_type in [\"RETT\", \"CTRL\"]:\n",
    "        for stain_type in [\"H3K27ac\", \"CTCF\", \"Dapi\"]:\n",
    "            loadname = f\"{ctrl_type}_{stain_type}_Resnet10_noavg_{cam_type}\"\n",
    "            print(f\"🚀 {loadname}\")\n",
    "            img_all = np.load(f\"../Classification/results_cam/{loadname}/{loadname}_img.npy\",allow_pickle=True)\n",
    "            print(f\"img all shape: {img_all.shape}\")\n",
    "\n",
    "            mask_all = []\n",
    "            for img in img_all:\n",
    "                gray = cv2.cvtColor(img, cv2.COLOR_BGR2GRAY)\n",
    "                _, thresh = cv2.threshold(gray, 0, 1, cv2.THRESH_BINARY)\n",
    "                mask_all.append(thresh)\n",
    "            mask_all = np.array(mask_all).astype(np.int32)\n",
    "            print(f\"mask all shape: {mask_all.shape}\")\n",
    "\n",
    "            # Init DataFrame to save\n",
    "            features_all = pd.DataFrame()\n",
    "            # Compute and Save nuclei features\n",
    "            for i in tqdm(range(len(img_all))):\n",
    "                features = hf.compute_nuclei_features(im_label=mask_all[i], im_nuclei=img_all[i,:,:,0])\n",
    "                features[\"Label\"] = i\n",
    "                # Add new DataFrame to DataFrame \n",
    "                features_all = pd.concat([features_all, features], ignore_index=True)\n",
    "            # Save DataFrame as CSV\n",
    "            features_name = f'features_{ctrl_type}_{stain_type}_correct.csv'\n",
    "            features_all.to_csv(features_name, index=False)\n",
    "            print(f\"🔥 Save features_all as {features_name}\")"
   ]
  },
  {
   "cell_type": "code",
   "execution_count": null,
   "id": "277c5396",
   "metadata": {},
   "outputs": [],
   "source": []
  }
 ],
 "metadata": {
  "kernelspec": {
   "display_name": "Python 3 (ipykernel)",
   "language": "python",
   "name": "python3"
  },
  "language_info": {
   "codemirror_mode": {
    "name": "ipython",
    "version": 3
   },
   "file_extension": ".py",
   "mimetype": "text/x-python",
   "name": "python",
   "nbconvert_exporter": "python",
   "pygments_lexer": "ipython3",
   "version": "3.10.14"
  }
 },
 "nbformat": 4,
 "nbformat_minor": 5
}
